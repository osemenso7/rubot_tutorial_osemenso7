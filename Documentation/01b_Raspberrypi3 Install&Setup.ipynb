{
 "cells": [
  {
   "cell_type": "markdown",
   "metadata": {},
   "source": [
    "# Raspberrypi3 Install&Setup"
   ]
  },
  {
   "source": [
    "Follow the steps in order to properly install the Raspberrypi:\n",
    "\n",
    "1. Install Raspberry Pi OS using Raspberry Pi Imager (download for windows): https://www.raspberrypi.org/software/\n",
    "2. Run the application and save the image (Raspberry pi OS (32-bit)) to the SD card\n",
    "3. Insert the SD in a RBPi board and connect it to screen\n",
    "4. The system ask you to choose a wifi network and change the timezone, language and password\n",
    "5. Reboot and select Raspberry Pi Configuration to activate the SSH and Camera\n",
    "6. reboot and open a terminal to obtain the IP address using \"ifconfig\"\n",
    "\n",
    "You are now ready to connect from your Ubuntu Virtual machine using VS Code or a simple terminal"
   ],
   "cell_type": "markdown",
   "metadata": {}
  },
  {
   "source": [
    "<img src=\"./Images/1b_raspbian1.png\">"
   ],
   "cell_type": "markdown",
   "metadata": {}
  },
  {
   "source": [
    "Alternativelly you can connect to the RBPi using SSH in a wifi network without the previous configurations using a screen connection if you follow the instructions:\n",
    "\n",
    "1. add ssh file (without extension) in the SD in the G:boot directory\n",
    "2. add wpa_supplicant.conf file containing different wifi. This file could be:"
   ],
   "cell_type": "markdown",
   "metadata": {}
  },
  {
   "cell_type": "code",
   "execution_count": null,
   "metadata": {},
   "outputs": [],
   "source": [
    "ctrl_interface=DIR=/var/run/wpa_supplicant GROUP=netdev\n",
    "update_config=1\n",
    "country=ES\n",
    " \n",
    "network={\n",
    "        ssid=\"TP-Link_4C96\"\n",
    "        psk=\"xxxxxxxx\"\n",
    "}\n",
    "network={\n",
    "        ssid=\"Manel\"\n",
    "        psk=\"xxxxxxxx\"\n",
    "}"
   ]
  },
  {
   "source": [
    "In order to mask the password, type:"
   ],
   "cell_type": "markdown",
   "metadata": {}
  },
  {
   "source": [
    "<img src=\"./Images/1b_passphrase.png\">"
   ],
   "cell_type": "markdown",
   "metadata": {}
  },
  {
   "source": [
    "We obtained the wpa_supplicant.conf (edit it first on WordPad to be sure there are not unproper characters!)"
   ],
   "cell_type": "markdown",
   "metadata": {}
  },
  {
   "cell_type": "code",
   "execution_count": null,
   "metadata": {},
   "outputs": [],
   "source": [
    "ctrl_interface=DIR=/var/run/wpa_supplicant GROUP=netdev\n",
    "update_config=1\n",
    "country=ES\n",
    "\n",
    "network={\n",
    "        ssid=\"WifiHome\"\n",
    "        psk=5a90beb50ad5daf822c353363560841d3c0009f85d6ce2fdb2f408b22c701841\n",
    "}\n",
    "network={\n",
    "        ssid=\"RoboticsUB\"\n",
    "        psk=7771bd4ce7dcff824cb242d9d98a4ddb8e50dd9f807c27f0245b91121a6a4d5a\n",
    "}\n",
    "network={​​​​\n",
    "        ssid=\"TP-Link_4C96\"\n",
    "\tpsk=3366b025441e97b4b190e8b577ed69572f16a52c6f88d42fda304b966d7243bb\n",
    "}\n",
    "network={\n",
    "        ssid=\"TP-Link_5E70\"\n",
    "        psk=dbe64abcd68e5312429f6b6fc6766d08304f11de98bf12bd6a2e7d75f305c675\n",
    "}\n",
    "network={\n",
    "        ssid=\"Manel\"\n",
    "        psk=f8c78c7a12242e1b7848663033165a55984d4573431695ada4c94492abb99887\n",
    "}"
   ]
  },
  {
   "source": [
    "### WinSCP\n",
    "\n",
    "For easy edition files you can install winSCP (https://winscp.net/eng/docs/guide_install#downloading) and open the raspberrypi session using winSCP with root privileges (https://www.fororaspberry.es/viewtopic.php?t=10578). You have to use the SCP protocol and in advanced options SCP/shell select \"sudo su -\""
   ],
   "cell_type": "markdown",
   "metadata": {}
  },
  {
   "source": [
    "<img src=\"./Images/02_winSCP_su.png\">"
   ],
   "cell_type": "markdown",
   "metadata": {}
  },
  {
   "source": [
    "### Remote Desktop\n",
    "\n",
    "You have 2 options:\n",
    "- Remote Desktop VNC\n",
    "- Remote Desktop XRDP"
   ],
   "cell_type": "markdown",
   "metadata": {}
  },
  {
   "source": [
    "#### Remote Desktop VNC\n",
    "\n",
    "This Desktop is available for Windows and MAC users.\n",
    "\n",
    "- To begin, open up the raspi-config tool by running the following command: \n",
    "sudo raspi-config\n",
    "- Within the configuration tool, use the arrow keys to scroll down to \"2. Display Options\" and \"D1. Resolution\"\n",
    "- Select the desired resolution. Usually DMT Mode 82 1920x1080 60Hz 16:9\n",
    "- Press OK\n",
    "- Within the configuration tool, use the arrow keys to scroll down to \"3. Interface Options\" and \"P3. VNC\"\n",
    "- Select VNC enable\n",
    "- Press OK and reboot"
   ],
   "cell_type": "markdown",
   "metadata": {}
  },
  {
   "source": [
    "Now in your PC install VNC Viewer: https://www.realvnc.com/es/connect/download/viewer/raspberrypi/"
   ],
   "cell_type": "markdown",
   "metadata": {}
  },
  {
   "source": [
    "#### Remote Desktop XRDP\n",
    "\n",
    "This Desktop is only available for Windows users.\n",
    "\n",
    "Install Remote Desktop XRDP in raspberrypi:\n",
    "\n",
    "sudo apt-get install xrdp\n",
    "\n",
    "Then in windows open the \"Escritorio remoto\" and connect to the RBPi"
   ],
   "cell_type": "markdown",
   "metadata": {}
  },
  {
   "source": [
    "<img src=\"./Images/02_RemoteDesktop.png\">"
   ],
   "cell_type": "markdown",
   "metadata": {}
  },
  {
   "source": [
    "### Win IP Scanner\n",
    "\n",
    "Install IP scanner for windows: https://www.advanced-ip-scanner.com/es/\n",
    "\n",
    "Connect the RBPi to the router and find the IP number"
   ],
   "cell_type": "markdown",
   "metadata": {}
  },
  {
   "source": [
    "<img src=\"./Images/02_IPScanner.png\">"
   ],
   "cell_type": "markdown",
   "metadata": {}
  },
  {
   "source": [
    "### Wireless connectivity of RBPi\n",
    "\n",
    "There are different options: https://www.raspberrypi.org/documentation/configuration/wireless/\n",
    "\n"
   ],
   "cell_type": "markdown",
   "metadata": {}
  },
  {
   "source": [
    "## Connection to RBPi from Ubuntu PC\n",
    "\n",
    "The first connection to the RBPi has to be using a Terminal in Virtual Box:\n",
    "\n",
    "1. type \"ssh pi@192.168.18.46\" (the default pass is raspberry)\n",
    "2. When you connect the same RBPi to another network, you have a warning because you have to regenerate the KeyGen of your computer. You have to type (using the proper IP): ssh-keygen -R 192.168.18.46"
   ],
   "cell_type": "markdown",
   "metadata": {}
  },
  {
   "source": [
    "<img src=\"./Images/1b_SSH1.png\">"
   ],
   "cell_type": "markdown",
   "metadata": {}
  },
  {
   "source": [
    "Now you will be able to connect to the RBPi within the environment VS Code:\n",
    "   \n",
    "5. Open VS Code and connect with ssh extension\n",
    "    - if you work in VBox, verify the network is configured as \"adaptador puente\"\n",
    "    - Choose \"Remote SSH: connect to Host...\"\n",
    "    - select \"+ Add New SSH Host\" (the first time)\n",
    "    - type \"ssh pi@192.168.18.46\"\n",
    "    - select /home/mpuig/.ssh/config\n",
    "    - click \"connect\" in the popup window\n",
    "    - a fingertip appears... click continue\n",
    "    - enter the password you have choosen for ubuntu in raspberrypi3 --> you are in!!\n",
    "6. Open folder or clone Repository"
   ],
   "cell_type": "markdown",
   "metadata": {}
  },
  {
   "source": [
    "<img src=\"./Images/1b_xarxa_AdaptadorPont.png\">"
   ],
   "cell_type": "markdown",
   "metadata": {}
  },
  {
   "source": [
    "<img src=\"./Images/1b_ssh.png\">"
   ],
   "cell_type": "markdown",
   "metadata": {}
  },
  {
   "source": [
    "## Install Ubuntu18 + ROS + OpenCV"
   ],
   "cell_type": "markdown",
   "metadata": {}
  },
  {
   "source": [
    "We have available different images with a preinstalled SW in function of the final HW robot"
   ],
   "cell_type": "markdown",
   "metadata": {}
  },
  {
   "source": [
    "### gopigo robot\n",
    "\n",
    "We have prepared an Image containing:\n",
    "- Raspbian\n",
    "- Ubuntu 18\n",
    "- ROS for raspbian\n",
    "- OpenCV\n"
   ],
   "cell_type": "markdown",
   "metadata": {}
  },
  {
   "source": [
    "<img src=\"./Images/2_gopigo.png\">"
   ],
   "cell_type": "markdown",
   "metadata": {}
  },
  {
   "source": [
    "The SD image containing the installation can be downloaded here: https://ubarcelona-my.sharepoint.com/personal/manel_puig_ub_edu/_layouts/15/OneDrive.aspx?remoteItem={%22mp%22:{%22listFullUrl%22:%22https://ubarcelona-my.sharepoint.com/personal/manel_puig_ub_edu/Documents%22,%22rootFolder%22:%22/personal/manel_puig_ub_edu/Documents/RPi%20images%22,%22webAbsoluteUrl%22:%22https://ubarcelona-my.sharepoint.com/personal/manel_puig_ub_edu%22},%22rsf%22:{%22listId%22:%223507d0fa-203c-4c3d-ab4b-a156c4a5c64b%22,%22siteUrl%22:%22https://ubarcelona-my.sharepoint.com/personal/albertalvarez_ub_edu%22,%22uniqueId%22:%224d1a4caa-6733-4b16-9096-df68c967755c%22}}\n",
    "\n",
    "Instructions to generate this image are:\n",
    "\n",
    "https://github.com/Albert-Alvarez/rUBot"
   ],
   "cell_type": "markdown",
   "metadata": {}
  },
  {
   "source": [
    "When you power the RBPi, a wifi network is created: roboticsUB_xxxx (with the 4 digits corresponding to the MAC address)\n",
    "\n",
    "If you want to have acces to internet you need to connect the RBPi with internet cable and find the IP address."
   ],
   "cell_type": "markdown",
   "metadata": {}
  },
  {
   "source": [
    "### Omni robot\n",
    "\n",
    "It is described the process of installing ROS Melodic Morenia on Raspberry Pi 4 running the latest Debian Buster and how to use RPLIDAR A1M8 with the installation.\n",
    "https://www.instructables.com/ROS-Melodic-on-Raspberry-Pi-4-RPLIDAR/\n"
   ],
   "cell_type": "markdown",
   "metadata": {}
  },
  {
   "source": [
    "<img src=\"./Images/2_omni_rubot.png\">"
   ],
   "cell_type": "markdown",
   "metadata": {}
  },
  {
   "source": [
    "## RBPi Shutdown\n",
    "\n",
    "To shutdown the RBPi type in the terminal:"
   ],
   "cell_type": "markdown",
   "metadata": {}
  },
  {
   "cell_type": "code",
   "execution_count": null,
   "metadata": {},
   "outputs": [],
   "source": [
    "sudo shutdown -h now"
   ]
  }
 ],
 "metadata": {
  "kernelspec": {
   "display_name": "Python 3",
   "language": "python",
   "name": "python3"
  },
  "language_info": {
   "codemirror_mode": {
    "name": "ipython",
    "version": 3
   },
   "file_extension": ".py",
   "mimetype": "text/x-python",
   "name": "python",
   "nbconvert_exporter": "python",
   "pygments_lexer": "ipython3",
   "version": "3.7.3"
  }
 },
 "nbformat": 4,
 "nbformat_minor": 2
}