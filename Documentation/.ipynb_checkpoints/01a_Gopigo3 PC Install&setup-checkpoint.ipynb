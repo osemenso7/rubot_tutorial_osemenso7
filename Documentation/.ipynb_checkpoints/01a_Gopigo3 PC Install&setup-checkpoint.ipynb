{
 "cells": [
  {
   "cell_type": "markdown",
   "metadata": {},
   "source": [
    "# ROS Installation"
   ]
  },
  {
   "cell_type": "markdown",
   "metadata": {},
   "source": [
    "Required installations:\n",
    "- Virtual Box with Ubuntu 18\n",
    "- ROS Melodic\n",
    "- Git&GitHub\n",
    "- VS Code \n",
    "- Jupyter Notebook\n"
   ]
  },
  {
   "cell_type": "markdown",
   "metadata": {},
   "source": [
    "### Virtual Box with Ubuntu 18"
   ]
  },
  {
   "cell_type": "markdown",
   "metadata": {},
   "source": [
    "You have first to enable the Virtualization in the setup:\n",
    "https://support.bluestacks.com/hc/es/articles/115003174386--C%C3%B3mo-puedo-habilitar-la-virtualizaci%C3%B3n-VT-en-mi-PC-"
   ]
  },
  {
   "cell_type": "markdown",
   "metadata": {},
   "source": [
    "Install Virtual Box: https://www.virtualbox.org/wiki/Downloads"
   ]
  },
  {
   "cell_type": "markdown",
   "metadata": {},
   "source": [
    "Install Ubuntu 18.04.5 LTS (Bionic Beaver) Desktop (64Bits) in Virtual Box: https://releases.ubuntu.com/18.04/?_ga=2.48347750.1131381805.1604151205-1612800938.1604151205"
   ]
  },
  {
   "cell_type": "markdown",
   "metadata": {},
   "source": [
    "Video Link: https://www.youtube.com/watch?v=QbmRXJJKsvs\n",
    "https://linuxhint.com/install_ubuntu_18-04_virtualbox/"
   ]
  },
  {
   "cell_type": "markdown",
   "metadata": {},
   "source": [
    "### ROS Melodic installation\n",
    "Open a command terminal and execute the following:"
   ]
  },
  {
   "cell_type": "markdown",
   "metadata": {},
   "source": [
    "Before installing the software, make sure that you have the two basic curl and git tools."
   ]
  },
  {
   "cell_type": "code",
   "execution_count": null,
   "metadata": {},
   "outputs": [],
   "source": [
    "sudo apt update\n",
    "sudo apt install curl git"
   ]
  },
  {
   "cell_type": "markdown",
   "metadata": {},
   "source": [
    "ROS Melodic also has an installation page at http://wiki.ros.org/melodic/Installation/Ubuntu"
   ]
  },
  {
   "cell_type": "markdown",
   "metadata": {},
   "source": [
    "1. First, add the source repository for ROS:"
   ]
  },
  {
   "cell_type": "code",
   "execution_count": null,
   "metadata": {},
   "outputs": [],
   "source": [
    "sudo sh -c 'echo \"deb http://packages.ros.org/ros/ubuntu $(lsb_release -sc) main\" > /etc/apt/sources.list.d/ros-latest.list'"
   ]
  },
  {
   "cell_type": "markdown",
   "metadata": {},
   "source": [
    "2. Then, set up your keys:"
   ]
  },
  {
   "cell_type": "code",
   "execution_count": null,
   "metadata": {},
   "outputs": [],
   "source": [
    "sudo apt-key adv --keyserver 'hkp://keyserver.ubuntu.com:80' --recv-key C1CF6E31E6BADE8868B172B4F42ED6FBAB17C654"
   ]
  },
  {
   "cell_type": "markdown",
   "metadata": {},
   "source": [
    "3. Update your sources:"
   ]
  },
  {
   "cell_type": "code",
   "execution_count": null,
   "metadata": {},
   "outputs": [],
   "source": [
    "sudo apt update"
   ]
  },
  {
   "cell_type": "markdown",
   "metadata": {},
   "source": [
    "4. If you are working in Ubuntu 18.04, perform the installation of ROS Melodic:"
   ]
  },
  {
   "cell_type": "code",
   "execution_count": null,
   "metadata": {},
   "outputs": [],
   "source": [
    "sudo apt install ros-melodic-desktop-full"
   ]
  },
  {
   "cell_type": "markdown",
   "metadata": {},
   "source": [
    "5. Initialize rosdep. This is the component that enables you to easily install system dependencies for the source code to compile. It is also required in order to run some core components in ROS:"
   ]
  },
  {
   "cell_type": "code",
   "execution_count": null,
   "metadata": {},
   "outputs": [],
   "source": [
    "sudo rosdep init\n",
    "rosdep update"
   ]
  },
  {
   "cell_type": "markdown",
   "metadata": {},
   "source": [
    "6. Set up the ROS environment for your interactive shell session:"
   ]
  },
  {
   "cell_type": "code",
   "execution_count": null,
   "metadata": {},
   "outputs": [],
   "source": [
    "echo \"source /opt/ros/melodic/setup.bash\" >> ~/.bashrc \n",
    "source ~/.bashrc\n"
   ]
  },
  {
   "cell_type": "markdown",
   "metadata": {},
   "source": [
    "7. Finally, install rosinstall, the command-line tool that enables you to easily download many source trees for ROS packages:"
   ]
  },
  {
   "cell_type": "code",
   "execution_count": null,
   "metadata": {},
   "outputs": [],
   "source": [
    "sudo apt install python-rosinstall python-rosinstall-generator python-wstool build-essential"
   ]
  },
  {
   "cell_type": "markdown",
   "metadata": {},
   "source": [
    "### Creation of ROS workspace \n",
    "\n",
    "Once the installation is complete, it is very important to configure our ROS workspace, which will be named as **rUBotCoop_ws**. For this, we will open a new terminal in our ubuntu 18.04 and insert the following comands:"
   ]
  },
  {
   "cell_type": "markdown",
   "metadata": {},
   "source": [
    "`~$ mkdir rUBotCoop_ws`  \n",
    "\n",
    "`~/rUBotCoop_ws$ mkdir src`  \n",
    "\n",
    "If the command requires administrator permission, execute \"sudo su\" before the respective command.  \n",
    "\n",
    "`~/rUBotCoop_ws$ catkin_make`\n",
    "\n",
    "\n",
    "Finally, introduce the following command:  \n",
    "\n",
    "`~/rUBotCoop_ws$ source devel/setup.bash`  \n",
    "\n",
    "\n",
    "This last command must be executed at every new terminal we open. To avoid this repeatibility, we will add the following lines to our *bashrc* script by running:  \n",
    "\n",
    "`~/rUBotCoop_ws$ gedit ~/.bashrc`  \n",
    "\n",
    "And add to the script:  \n",
    "\n",
    "`source ~/rUBotCoop_ws/devel/setup.bash`  \n",
    "\n",
    "New terminals will pick up when you open it. \n",
    "\n",
    "Finally, to remove the restrictions to write or modify on existing files:    \n",
    "\n",
    "`~$ sudo su `  \n",
    "\n",
    "`~$ chmod -R 777 rUBotCoop_ws `  \n",
    "\n",
    "`~$ chmod -R 777 rUBotCoop_ws/src `"
   ]
  },
  {
   "cell_type": "markdown",
   "metadata": {},
   "source": [
    "With this, our workspace is configured and has the following structure:"
   ]
  },
  {
   "cell_type": "markdown",
   "metadata": {},
   "source": [
    "` rUBotCoop_ws  \n",
    "      ├─── build  \n",
    "      ├─── devel  \n",
    "      └─── src    \n",
    "             ├──── CMakeLists.txt    `  "
   ]
  },
  {
   "cell_type": "markdown",
   "metadata": {},
   "source": [
    "### Git&GitHub"
   ]
  },
  {
   "cell_type": "markdown",
   "metadata": {},
   "source": [
    "For windows https://git-scm.com/\n",
    "\n",
    "In Ubuntu Git is already installed"
   ]
  },
  {
   "cell_type": "markdown",
   "metadata": {},
   "source": [
    "### Jupyter Notebook"
   ]
  },
  {
   "cell_type": "markdown",
   "metadata": {},
   "source": [
    "Documentation: https://jupyter.org/install"
   ]
  },
  {
   "cell_type": "markdown",
   "metadata": {},
   "source": [
    "In a terminal type:"
   ]
  },
  {
   "cell_type": "code",
   "execution_count": null,
   "metadata": {},
   "outputs": [],
   "source": [
    "pip install notebook"
   ]
  },
  {
   "cell_type": "markdown",
   "metadata": {},
   "source": [
    "sometimes it is necessary to:"
   ]
  },
  {
   "cell_type": "code",
   "execution_count": null,
   "metadata": {},
   "outputs": [],
   "source": [
    "sudo apt-get update\n",
    "sudo apt-get -y install python2.7 python-pip python-dev\n",
    "sudo apt-get -y install ipython ipython-notebook\n",
    "sudo -H pip install --upgrade pip\n",
    "sudo -H pip install jupyter\n",
    "jupyter notebook"
   ]
  },
  {
   "cell_type": "markdown",
   "metadata": {},
   "source": [
    "To open type: jupyter notebook"
   ]
  },
  {
   "cell_type": "markdown",
   "metadata": {},
   "source": [
    "Another solution is to go in Ubuntu Applications and install from there"
   ]
  },
  {
   "cell_type": "markdown",
   "metadata": {},
   "source": [
    "### VS Code"
   ]
  },
  {
   "cell_type": "markdown",
   "metadata": {},
   "source": [
    "The best way is in Ubuntu Applications and install from there.\n",
    "Install the Extensions:\n",
    "- Python (Microsoft)\n",
    "- Remote SSH (Microsoft)\n"
   ]
  },
  {
   "cell_type": "markdown",
   "metadata": {},
   "source": [
    "### Sincronisation VS Code with gitHub"
   ]
  },
  {
   "cell_type": "markdown",
   "metadata": {},
   "source": [
    "From VS Code \n",
    "\n",
    "Close folders\n",
    "\n",
    "Select Git and Clone repository\n",
    "\n",
    "Insert the path (https://...git)\n",
    "\n",
    "you select the folder location and choose \"open\" in VS Code"
   ]
  },
  {
   "cell_type": "markdown",
   "metadata": {},
   "source": [
    "You have to inform about the git name and git email\n",
    "\n",
    "In a terminal insert only first time"
   ]
  },
  {
   "cell_type": "code",
   "execution_count": null,
   "metadata": {},
   "outputs": [],
   "source": [
    "git config --global user.name \"Manel Puig\""
   ]
  },
  {
   "cell_type": "code",
   "execution_count": null,
   "metadata": {},
   "outputs": [],
   "source": [
    "git config --global user.email \"manel.puig@ub.edu\""
   ]
  },
  {
   "cell_type": "markdown",
   "metadata": {},
   "source": [
    "Sincronisation with gitHub:\n",
    "\n",
    "Perform the modification in Jupyter Notebook\n",
    "\n",
    "Save\n",
    "\n",
    "Go to git and refresh\n",
    "\n",
    "You will see the file with “M” mark\n",
    "\n",
    "Stage changes: Click in “+”\n",
    "\n",
    "Add comment to the commit “Canvi 5” (and press ctrl+enter)\n",
    "\n",
    "Go to “Push” in the top left corner and the changes are sincronized in gitHub (or sync in the bottom)\n"
   ]
  },
  {
   "cell_type": "markdown",
   "metadata": {},
   "source": [
    "ROS work spaces: If the repository is not a ws, you will have to create a src folder, place the package inside and type catkin_make"
   ]
  }
 ],
 "metadata": {
  "kernelspec": {
   "display_name": "Python 3",
   "language": "python",
   "name": "python3"
  },
  "language_info": {
   "codemirror_mode": {
    "name": "ipython",
    "version": 3
   },
   "file_extension": ".py",
   "mimetype": "text/x-python",
   "name": "python",
   "nbconvert_exporter": "python",
   "pygments_lexer": "ipython3",
   "version": "3.7.3"
  }
 },
 "nbformat": 4,
 "nbformat_minor": 2
}
