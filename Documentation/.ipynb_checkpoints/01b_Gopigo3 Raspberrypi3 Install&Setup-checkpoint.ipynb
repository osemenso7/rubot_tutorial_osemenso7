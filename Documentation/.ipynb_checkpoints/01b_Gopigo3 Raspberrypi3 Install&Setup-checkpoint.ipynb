{
 "cells": [
  {
   "cell_type": "markdown",
   "metadata": {},
   "source": [
    "# Raspberrypi3 Install&Setup"
   ]
  },
  {
   "cell_type": "markdown",
   "metadata": {},
   "source": [
    "The code files for this chapter are available at https://github.com/PacktPublishing/Hands-On-ROS-for-Robotics-Programming/tree/master/Chapter6_ROS_programming.\n"
   ]
  },
  {
   "cell_type": "markdown",
   "metadata": {},
   "source": [
    "When you have completed the Raspberry Pi setup, as explained in the Setting up a physical robot section, clone the book repository (https://github.com/PacktPublishing/Hands-On-ROS-for-Robotics-Programming) in your home folder:\n"
   ]
  },
  {
   "cell_type": "code",
   "execution_count": null,
   "metadata": {},
   "outputs": [],
   "source": [
    "git clone https://github.com/PacktPublishing/Hands-On-ROS-for-Robotics-Programming\n"
   ]
  },
  {
   "cell_type": "markdown",
   "metadata": {},
   "source": [
    "if you decide to use the provided code, you will just need to copy the Chapter6_ROS_programming folder to the ROS workspace as usual:"
   ]
  },
  {
   "cell_type": "code",
   "execution_count": null,
   "metadata": {},
   "outputs": [],
   "source": [
    "cp -R ~/Hands-On-ROS-for-Robotics-Programming/Chapter6_ROS_programming ~/catkin_ws/src"
   ]
  },
  {
   "cell_type": "markdown",
   "metadata": {},
   "source": [
    "# Install gopigo HW"
   ]
  },
  {
   "cell_type": "markdown",
   "metadata": {},
   "source": [
    "Download the image file of the operating system and follow the instructions to burn a micro SD card with the Etcher app (https://www.balena.io/etcher/). You should go through the steps at https://www.dexterindustries.com/dexteros/get-dexteros-operating-system-for-raspberry-pi-robotics/\n",
    "\n",
    "Follow these steps to get started with DexterOS:\n",
    "\n",
    "1. Once you have placed the card in the slot of the Raspberry Pi, switch the GoPiGo board on and connect to the Wi-Fi network it creates (its SSID is GoPiGo, without a password).\n",
    "2. After that, go to to http://mygopigo.com or http://10.10.10.10 to gain access to the robot's enviroment, where the landing page looks as follows. You can find the step-by-step procedure at https://edu.workbencheducation.com/cwists/preview/26657x\n",
    "\n",
    "Now we are ready to install Ubuntu 18.04 and ROS"
   ]
  },
  {
   "cell_type": "markdown",
   "metadata": {},
   "source": [
    "## Ubuntu Mate 18.04 Bionic"
   ]
  },
  {
   "cell_type": "markdown",
   "metadata": {},
   "source": [
    "Therefore, the first thing to do is to prepare the software you need to be running in the Raspberry Pi. This section will guide you through the process step by step.\n",
    "\n",
    "Mate is, at the time of writing, the recommended Ubuntu desktop to run under Raspberry Pi. It is a complete Ubuntu distribution with a nice desktop interface. Follow these steps to make it run in your GoPiGo3:\n"
   ]
  },
  {
   "cell_type": "markdown",
   "metadata": {},
   "source": [
    "1. Download the image from https://ubuntu-mate.org/download/, selecting the Raspberry Pi version (recommended): AArch32 (ARMv7). Burn the image onto a micro SD card. Afterward, place it in the slot in the Raspberry Pi, plug in a mouse and keyboard, connect to an HDMI screen, and then power on the board.\n"
   ]
  },
  {
   "cell_type": "markdown",
   "metadata": {},
   "source": [
    "2. The first time you initiate it, a setup assistant will guide you through the process of configuring the operating system. In this book, we assume that the Ubuntu user is named pi.\n"
   ]
  },
  {
   "cell_type": "markdown",
   "metadata": {},
   "source": [
    "3. Make sure that you connect to the local WiFi by selecting a network from the list that is deployed when clicking on the wireless icon in the upper-right corner of the screen. It is strongly recommended that you add a second mobile WiFi network preferably like the one that your smartphone provides.This will avoid the need to connect to the HDMI screen, keyboard, and mouse when you move the robot away from home in the future."
   ]
  },
  {
   "cell_type": "markdown",
   "metadata": {},
   "source": [
    "4. For more friendly access to your system, it is recommended that you allow your Ubuntu user to access sudo without a password:"
   ]
  },
  {
   "cell_type": "code",
   "execution_count": null,
   "metadata": {},
   "outputs": [],
   "source": [
    "sudo visudo\n",
    "pi ALL=(ALL) NOPASSWD: ALL"
   ]
  },
  {
   "cell_type": "markdown",
   "metadata": {},
   "source": [
    "Save your changes and exit so that they take effect.\n",
    "\n",
    "5. you will update the Ubuntu repositories in your system; afterward, the system packages will be upgraded:"
   ]
  },
  {
   "cell_type": "code",
   "execution_count": null,
   "metadata": {},
   "outputs": [],
   "source": [
    "sudo apt update && sudo apt upgrade -y"
   ]
  },
  {
   "cell_type": "markdown",
   "metadata": {},
   "source": [
    "6. You will need a git package in order to clone the repositories of code. If this is not on your system, then you can install it using the following command:"
   ]
  },
  {
   "cell_type": "code",
   "execution_count": null,
   "metadata": {},
   "outputs": [],
   "source": [
    "sudo apt install git"
   ]
  },
  {
   "cell_type": "markdown",
   "metadata": {},
   "source": [
    "7. We will also add another useful package, tree, in order to get information from the filesystem:"
   ]
  },
  {
   "cell_type": "code",
   "execution_count": null,
   "metadata": {},
   "outputs": [],
   "source": [
    "sudo apt install tree"
   ]
  },
  {
   "cell_type": "markdown",
   "metadata": {},
   "source": [
    "You can obtain the image of Ubuntu mate 18.04 and ROS Melodic in:\n",
    "https://husarion.com/downloads/"
   ]
  },
  {
   "cell_type": "code",
   "execution_count": null,
   "metadata": {},
   "outputs": [],
   "source": []
  },
  {
   "cell_type": "markdown",
   "metadata": {},
   "source": [
    "## ROS Melodic"
   ]
  },
  {
   "cell_type": "markdown",
   "metadata": {},
   "source": [
    "Since you will be using only the core ROS packages in your Raspberry Pi, it is recommended that you install the latest Ubuntu LTS version, that is, Ubuntu Mate 18.04 Bionic (https://ubuntu-mate.org/download/). This is because, although almost all contributed ROS packages are available for ROS Kinetic, it is also true that core packages are already available in the 2018 version of ROS Melodic. Therefore, it is safe to install this release in the Raspberry Pi under Ubuntu 18.04. As mentioned already, the instructions on the ROS Melodic installation page (http://wiki.ros.org/melodic/Installation/Ubuntu) are pretty clear and straightforward.\n",
    "\n",
    "If installing ROS Desktop (which is recommended for beginners and for covering the contents of this book), use the following command:\n"
   ]
  },
  {
   "cell_type": "code",
   "execution_count": null,
   "metadata": {},
   "outputs": [],
   "source": [
    "sudo apt-get install ros-melodic-desktop"
   ]
  },
  {
   "cell_type": "markdown",
   "metadata": {},
   "source": [
    "## Drivers and DI sensors"
   ]
  },
  {
   "cell_type": "markdown",
   "metadata": {},
   "source": [
    "Now we will prepare the system to work with GoPiGo3. Dexter Industries supplies automated scripts to accomplish all the installations tasks:\n",
    "\n",
    "- The GoPiGo3 library, with the following script https://dexterindustries.com/update_gopigo3\n",
    "- The DI Sensors library, with the following script https://dexterindustries.com/update_sensors \n",
    "\n",
    "The relevant steps are provided in the official documentation at https://dexterindustries.com/update_gopigo3.\n",
    "\n",
    "In short, you only have to open a terminal and execute following two commands, one after another:\n"
   ]
  },
  {
   "cell_type": "code",
   "execution_count": null,
   "metadata": {},
   "outputs": [],
   "source": [
    "curl -kL dexterindustries.com/update_gopigo3 | bash\n",
    "curl -kL dexterindustries.com/update_sensors | bash"
   ]
  },
  {
   "cell_type": "markdown",
   "metadata": {},
   "source": [
    "At this point, your operating system is ready to run any GoPiGo3 code, that is, the Python scripts that we used in Chapter 2, Unit Testing of GoPiGo3.\n"
   ]
  },
  {
   "cell_type": "markdown",
   "metadata": {},
   "source": [
    "## Install Pi Camera"
   ]
  },
  {
   "cell_type": "markdown",
   "metadata": {},
   "source": [
    "First, we will enable access to the camera hardware from the Raspberry Pi and we will install the Python module to handle the camera:\n",
    "\n",
    "First, we will enable access to the camera hardware from the Raspberry Pi, and second, we will install the Python module to handle the camera:\n",
    "\n",
    "1. First, we need to edit the /boot/config.txt file:"
   ]
  },
  {
   "cell_type": "code",
   "execution_count": null,
   "metadata": {},
   "outputs": [],
   "source": [
    "sudo nano /boot/config.txt"
   ]
  },
  {
   "cell_type": "markdown",
   "metadata": {},
   "source": [
    "2. Then, we add these two lines at the end:"
   ]
  },
  {
   "cell_type": "code",
   "execution_count": null,
   "metadata": {},
   "outputs": [],
   "source": [
    "start_x=1\n",
    "gpu_mem=128"
   ]
  },
  {
   "cell_type": "markdown",
   "metadata": {},
   "source": [
    "Alternatively, you can get the same result by adding these lines from the command line:"
   ]
  },
  {
   "cell_type": "code",
   "execution_count": null,
   "metadata": {},
   "outputs": [],
   "source": [
    "sudo bash -c \"echo 'start_x=1' >> /boot/config.txt\"\n",
    "sudo bash -c \"echo 'gpu_mem=128' >> /boot/config.txt\" "
   ]
  },
  {
   "cell_type": "markdown",
   "metadata": {},
   "source": [
    "3. Next, install the Python module as follows:"
   ]
  },
  {
   "cell_type": "code",
   "execution_count": null,
   "metadata": {},
   "outputs": [],
   "source": [
    "sudo pip install picamera"
   ]
  },
  {
   "cell_type": "markdown",
   "metadata": {},
   "source": [
    "To check that the camera works properly, create this Python script and name it captureFile.py (you can find it inside the piCamera folder in the code for this chapter):"
   ]
  },
  {
   "cell_type": "markdown",
   "metadata": {},
   "source": [
    "Give execution permissions and run the Python module:"
   ]
  },
  {
   "cell_type": "code",
   "execution_count": null,
   "metadata": {},
   "outputs": [],
   "source": [
    "chmod +x captureFile.py\n",
    "./captureFile.py"
   ]
  }
 ],
 "metadata": {
  "kernelspec": {
   "display_name": "Python 3",
   "language": "python",
   "name": "python3"
  },
  "language_info": {
   "codemirror_mode": {
    "name": "ipython",
    "version": 3
   },
   "file_extension": ".py",
   "mimetype": "text/x-python",
   "name": "python",
   "nbconvert_exporter": "python",
   "pygments_lexer": "ipython3",
   "version": "3.7.3"
  }
 },
 "nbformat": 4,
 "nbformat_minor": 2
}
