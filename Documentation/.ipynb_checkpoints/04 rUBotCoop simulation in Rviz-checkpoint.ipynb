{
 "cells": [
  {
   "cell_type": "markdown",
   "metadata": {},
   "source": [
    "# Robot simulation with Rviz"
   ]
  },
  {
   "cell_type": "markdown",
   "metadata": {},
   "source": [
    "In this section, you will build a digital twin of the GoPiGo3 robot and complete the testing campaign in a virtual environment in the Gazebo simulator."
   ]
  },
  {
   "cell_type": "markdown",
   "metadata": {},
   "source": [
    "RViz is a 3D visualization tool that can display robot models. It provides a configurable Graphical User Interface (GUI) that allows the user to display any information they may request for the task being carrying out. RViz can be used for both robot visualization and for debugging specific features\n",
    "\n",
    "Next, only copy the code for this chapter into the ROS workspace."
   ]
  },
  {
   "cell_type": "code",
   "execution_count": null,
   "metadata": {},
   "outputs": [],
   "source": [
    "cp -R ~/Hands-On-ROS-for-Robotics-Programming/Chapter4_RViz_basics ~/rUBotCoop_ws/src/"
   ]
  },
  {
   "cell_type": "code",
   "execution_count": null,
   "metadata": {},
   "outputs": [],
   "source": [
    "cd ~/rUBotCoop_ws\n",
    "catkin_make"
   ]
  },
  {
   "cell_type": "markdown",
   "metadata": {},
   "source": [
    "Note that the new package installed is named \"rviz_basics\""
   ]
  },
  {
   "cell_type": "markdown",
   "metadata": {},
   "source": [
    "From the point of view of a simulated model, a differential drive robot such as GoPiGo3 is composed of three parts, each one being a rigid body. Therefore, we will divide the robot into mobile parts:  \n",
    "- The robot body, which includes the chassis and all the fixed parts attached to it (Raspberry Pi, GoPigo3 board, motors, and the battery package) \n",
    "- Left and right wheels \n",
    "- Caster \n",
    "\n",
    "Going back to ROS, you are going to build a simulated GoPiGo3 with URDF. This is an XML format description that represents robot models at the component level. ROS contains a URDF package (http://wiki.ros.org/urdf) in order to accept this format of the robot description for simulation purposes. \n",
    "\n",
    "Below, we are going to illustrate how to describe the 3 mobile parts of GoPiGo3 in URDF (gopigoMinimal.urdf):\n",
    "- Base link (integrates the caster wheel)\n",
    "- Left wheel\n",
    "- Right wheel"
   ]
  },
  {
   "cell_type": "code",
   "execution_count": null,
   "metadata": {},
   "outputs": [],
   "source": [
    "<?xml version='1.0'?>\n",
    "<robot name=\"gopigoMinimal\">\n",
    "\n",
    "  <!-- Base Link -->\n",
    "  <link name=\"base_link\">\n",
    "    <visual>\n",
    "      <origin xyz=\"0 0 0\" rpy=\"0 0 0\" />\n",
    "      <geometry>\n",
    "          <box size=\"0.5 0.5 0.25\"/>\n",
    "      </geometry>\n",
    "      <material name=\"blue\">\n",
    "        <color rgba=\"0 0.5 1 1\"/>\n",
    "      </material>\n",
    "    </visual>\n",
    "\n",
    "    <!-- Caster -->\n",
    "    <visual name=\"caster\">\n",
    "      <origin xyz=\"0.2 0 -0.125\" rpy=\"0 0 0\" />\n",
    "      <geometry>\n",
    "        <sphere radius=\"0.05\" />\n",
    "      </geometry>\n",
    "    </visual>\n",
    "\n",
    "  </link>\n",
    "\n",
    "  <!-- Right Wheel -->\n",
    "  <link name=\"right_wheel\">\n",
    "    <visual>\n",
    "      <origin xyz=\"0 0 0\" rpy=\"1.570795 0 0\" />\n",
    "      <geometry>\n",
    "          <cylinder length=\"0.1\" radius=\"0.2\" />\n",
    "      </geometry>\n",
    "      <material name=\"black\">\n",
    "        <color rgba=\"0.05 0.05 0.05 1\"/>\n",
    "      </material>\n",
    "    </visual>\n",
    "  </link>\n",
    "\n",
    "  <joint name=\"joint_right_wheel\" type=\"continuous\">\n",
    "    <parent link=\"base_link\"/>\n",
    "    <child link=\"right_wheel\"/>\n",
    "    <origin xyz=\"0 -0.30 0\" rpy=\"0 0 0\" /> \n",
    "    <axis xyz=\"0 1 0\" />\n",
    "  </joint>\n",
    "\n",
    "  <!-- Left Wheel -->\n",
    "  <link name=\"left_wheel\">\n",
    "    <visual>\n",
    "      <origin xyz=\"0 0 0\" rpy=\"1.570795 0 0\" />\n",
    "      <geometry>\n",
    "          <cylinder length=\"0.1\" radius=\"0.2\" />\n",
    "      </geometry>\n",
    "      <material name=\"black\"/>\n",
    "    </visual>\n",
    "  </link>\n",
    "  \n",
    "  <joint name=\"joint_left_wheel\" type=\"continuous\">\n",
    "    <parent link=\"base_link\"/>\n",
    "    <child link=\"left_wheel\"/>\n",
    "    <origin xyz=\"0 0.30 0\" rpy=\"0 0 0\" /> \n",
    "    <axis xyz=\"0 1 0\" />\n",
    "  </joint>\n",
    "\n",
    "</robot>"
   ]
  },
  {
   "cell_type": "markdown",
   "metadata": {},
   "source": [
    "Let's see the gopigo3 minimal model on the rviz executing the launch file \"gopigoMinimal_rviz_simple.launch\""
   ]
  },
  {
   "cell_type": "code",
   "execution_count": null,
   "metadata": {},
   "outputs": [],
   "source": [
    "<launch>\n",
    "   <!-- set these parameters on Parameter Server -->\n",
    "   <param name=\"robot_description\" textfile=\"$(find rviz_basics)/urdf/gopigoMinimal.urdf\" />\n",
    "\n",
    "   <!-- Start 3 nodes: joint_state_publisher, robot_state_publisher and rviz -->\n",
    "\n",
    "   <!-- Send joint values -->\n",
    "   <node pkg=\"joint_state_publisher\" type=\"joint_state_publisher\" name=\"joint_state_publisher\"/>\n",
    "\n",
    "   <!-- Combine joint values to TF-->\n",
    "   <node name=\"robot_state_publisher\" pkg=\"robot_state_publisher\" type=\"robot_state_publisher\"/>\n",
    "\n",
    "   <node name=\"rviz\" pkg=\"rviz\" type=\"rviz\" args=\"-d $(find rviz_basics)/rviz/gopigoMinimal.rviz\" required=\"true\" />\n",
    "</launch>\n"
   ]
  },
  {
   "cell_type": "code",
   "execution_count": null,
   "metadata": {},
   "outputs": [],
   "source": [
    "roslaunch rviz_basics gopigoMinimal_rviz_simple.launch"
   ]
  },
  {
   "cell_type": "markdown",
   "metadata": {},
   "source": [
    "<img src=\"./Images/04_rviz1.png\">"
   ]
  },
  {
   "cell_type": "markdown",
   "metadata": {},
   "source": [
    "We can specify the robot model as an argument from the command line if we use use \"gopigoMinimal_rviz.launch\" launch file."
   ]
  },
  {
   "cell_type": "code",
   "execution_count": null,
   "metadata": {},
   "outputs": [],
   "source": [
    "<launch>\n",
    "   <!-- values passed by command line input -->     \n",
    "   <arg name=\"model\" default=\"gopigoMinimal\" />\n",
    "   <arg name=\"gui\" default=\"False\" />\n",
    "\n",
    "   <!-- set these parameters on Parameter Server -->\n",
    "   <param name=\"robot_description\" textfile=\"$(find rviz_basics)/urdf/$(arg model).urdf\" />\n",
    "\n",
    "   <!-- Start 3 nodes: joint_state_publisher, robot_state_publisher and rviz -->\n",
    "\n",
    "   <!-- Send joint values -->\n",
    "   <node pkg=\"joint_state_publisher\" type=\"joint_state_publisher\" name=\"joint_state_publisher\">\n",
    "     <param name=\"/use_gui\" value=\"$(arg gui)\"/>\n",
    "   </node>\n",
    "   <!-- Combine joint values to TF-->\n",
    "   <node name=\"robot_state_publisher\" pkg=\"robot_state_publisher\" type=\"robot_state_publisher\"/>\n",
    "\n",
    "   <node name=\"rviz\" pkg=\"rviz\" type=\"rviz\" args=\"-d $(find rviz_basics)/rviz/$(arg model).rviz\" required=\"true\" />\n",
    "   <!-- (required = \"true\") if rviz dies, entire roslaunch will be killed -->\n",
    "</launch>\n"
   ]
  },
  {
   "cell_type": "markdown",
   "metadata": {},
   "source": [
    "The complete version of the robot can be launched with the following command:"
   ]
  },
  {
   "cell_type": "code",
   "execution_count": null,
   "metadata": {},
   "outputs": [],
   "source": [
    "roslaunch rviz_basics gopigoMinimal_rviz.launch model:=gopigoMinimal"
   ]
  },
  {
   "cell_type": "markdown",
   "metadata": {},
   "source": [
    "If we want to control and activate the gui of the differential drive, we have to specify the a second optional argument \"gui\" to true:"
   ]
  },
  {
   "cell_type": "code",
   "execution_count": null,
   "metadata": {},
   "outputs": [],
   "source": [
    "roslaunch rviz_basics gopigoMinimal_rviz.launch model:=gopigoMinimal gui:=True"
   ]
  },
  {
   "cell_type": "markdown",
   "metadata": {},
   "source": [
    "<img src=\"./Images/04_rviz2.png\">"
   ]
  },
  {
   "cell_type": "code",
   "execution_count": null,
   "metadata": {},
   "outputs": [],
   "source": [
    "rqt_graph"
   ]
  },
  {
   "cell_type": "markdown",
   "metadata": {},
   "source": [
    "<img src=\"./Images/04_rqt1.png\">"
   ]
  }
 ],
 "metadata": {
  "kernelspec": {
   "display_name": "Python 3",
   "language": "python",
   "name": "python3"
  },
  "language_info": {
   "codemirror_mode": {
    "name": "ipython",
    "version": 3
   },
   "file_extension": ".py",
   "mimetype": "text/x-python",
   "name": "python",
   "nbconvert_exporter": "python",
   "pygments_lexer": "ipython3",
   "version": "3.7.3"
  }
 },
 "nbformat": 4,
 "nbformat_minor": 2
}
