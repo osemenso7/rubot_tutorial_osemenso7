{
 "cells": [
  {
   "cell_type": "markdown",
   "metadata": {},
   "source": [
    "# Robot Control and Simulation "
   ]
  },
  {
   "cell_type": "markdown",
   "metadata": {},
   "source": [
    "You will set up your ROS development environment specifically for programming GoPiGo3.\n",
    "Remote control and autonomous control establish a qualitative difference in terms of robot software development.\n",
    "\n",
    "You will understand the usefulness of using simulation during the development of robotic applications by establishing a comparison with how the physical robot behaves. These observed differences will allow you to adjust the parameters of the virtual robot's simulation in Gazebo. The main advantage of this approach is that you can keep on developing and testing the software with the virtual model and then only test with the real hardware in the final development stage.\n",
    "\n",
    "We will have our first complete version of the ROS package of GoPiGo3.\n",
    "\n",
    "Copy its files to the ROS workspace so that they're available to you and leave the rest outside the src folder.\n"
   ]
  },
  {
   "cell_type": "code",
   "execution_count": null,
   "metadata": {},
   "outputs": [],
   "source": [
    "cp -R ~/Hands-On-ROS-for-Robotics-Programming/Chapter7_Robot_control_simulation ~/rUBotCoop_ws/src"
   ]
  },
  {
   "cell_type": "markdown",
   "metadata": {},
   "source": [
    "The code contains a new ROS package named gazebo_control.\n",
    "\n",
    "Rebuild the workspace so that it is known to your ROS installation:\n"
   ]
  },
  {
   "cell_type": "code",
   "execution_count": null,
   "metadata": {},
   "outputs": [],
   "source": [
    "cd ~/rUBotCoop_ws\n",
    "catkin_make\n",
    "source ~/rUBotCoop_ws/devel/setup.bash"
   ]
  },
  {
   "cell_type": "markdown",
   "metadata": {},
   "source": [
    "## Teleoperation package"
   ]
  },
  {
   "cell_type": "markdown",
   "metadata": {},
   "source": [
    "key_teleop (http://wiki.ros.org/key_teleop) is a ROS-contributed package that provides a very simple mechanism for controlling a robot using the arrow keys of the keyboard. Clone the source code and install the package on your laptop as usual:\n"
   ]
  },
  {
   "cell_type": "code",
   "execution_count": null,
   "metadata": {},
   "outputs": [],
   "source": [
    "cd ~/rUBotCoop_ws/src\n",
    "git clone https://github.com/ros-teleop/teleop_tools\n",
    "cd .. && catkin_make"
   ]
  },
  {
   "cell_type": "markdown",
   "metadata": {},
   "source": [
    "Another three packages are available here that are also part of the teleop_tools bundle: \n",
    "- joy_teleop, a generic joystick interface for topics and actions \n",
    "- mouse_teleop, a pointing device (for example, mouse, touchpad, and so on) teleoperation utility\n",
    "- key_teleop, using keyboard\n"
   ]
  },
  {
   "cell_type": "markdown",
   "metadata": {},
   "source": [
    "## Simulating GoPiGo3 with Gazebo\n"
   ]
  },
  {
   "cell_type": "markdown",
   "metadata": {},
   "source": [
    "Now that we've set up the environment, we can add a virtual controller that will allow us to control GoPiGo3 inside Gazebo in the same way we did before with the physical robot.\n"
   ]
  },
  {
   "cell_type": "markdown",
   "metadata": {},
   "source": [
    "Here, we are going to use a mechanism called controller to transform speed /cmd_vel messages into motions for the left and right wheels of the robot. For the case of a two-wheeled robot, this is known as a differential drive controller.\n",
    "\n",
    "To include the differential drive controller in your model of the robot, add the following snippet inside the <robot> tag of the urdf/gopigo.gazebo file:\n"
   ]
  },
  {
   "cell_type": "code",
   "execution_count": null,
   "metadata": {},
   "outputs": [],
   "source": [
    "<gazebo>\n",
    "    <plugin filename=\"libgazebo_ros_diff_drive.so\" name=\"differential_drive_controller\">\n",
    "       <alwaysOn>true</alwaysOn>\n",
    "       <updateRate>20</updateRate>\n",
    "       <leftJoint>joint_left_wheel</leftJoint>\n",
    "       <rightJoint>joint_right_wheel</rightJoint>\n",
    "       <wheelSeparation>0.4</wheelSeparation>\n",
    "       <wheelDiameter>0.2</wheelDiameter>\n",
    "       <torque>0.1</torque>\n",
    "       <commandTopic>cmd_vel</commandTopic>\n",
    "       <odometryTopic>odom</odometryTopic>\n",
    "       <odometryFrame>odom</odometryFrame>\n",
    "       <robotBaseFrame>base_link</robotBaseFrame>\n",
    "    </plugin>\n",
    " </gazebo>\n"
   ]
  },
  {
   "cell_type": "markdown",
   "metadata": {},
   "source": [
    "Launch the Gazebo environment with the GoPiGo3 model:"
   ]
  },
  {
   "cell_type": "code",
   "execution_count": null,
   "metadata": {},
   "outputs": [],
   "source": [
    "roslaunch gazebo_control spawn.launch"
   ]
  },
  {
   "cell_type": "markdown",
   "metadata": {},
   "source": [
    "you can teleoperate the virtual robot with the keyboard (arrow keys):"
   ]
  },
  {
   "cell_type": "code",
   "execution_count": null,
   "metadata": {},
   "outputs": [],
   "source": [
    "rosrun key_teleop key_teleop.py /key_vel:=/cmd_vel\n",
    "rqt_graph"
   ]
  },
  {
   "cell_type": "markdown",
   "metadata": {},
   "source": [
    "<img src=\"./Images/07_Gazebo_key1.png\">"
   ]
  },
  {
   "cell_type": "code",
   "execution_count": null,
   "metadata": {},
   "outputs": [],
   "source": []
  }
 ],
 "metadata": {
  "kernelspec": {
   "display_name": "Python 3",
   "language": "python",
   "name": "python3"
  },
  "language_info": {
   "codemirror_mode": {
    "name": "ipython",
    "version": 3
   },
   "file_extension": ".py",
   "mimetype": "text/x-python",
   "name": "python",
   "nbconvert_exporter": "python",
   "pygments_lexer": "ipython3",
   "version": "3.7.3"
  }
 },
 "nbformat": 4,
 "nbformat_minor": 2
}
