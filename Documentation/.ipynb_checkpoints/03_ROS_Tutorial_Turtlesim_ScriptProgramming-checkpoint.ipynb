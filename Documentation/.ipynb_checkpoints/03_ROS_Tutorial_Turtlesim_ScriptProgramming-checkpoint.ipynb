{
 "cells": [
  {
   "cell_type": "markdown",
   "metadata": {},
   "source": [
    "# ROS Tutorial Turtlesim Script Programming"
   ]
  },
  {
   "cell_type": "markdown",
   "metadata": {},
   "source": [
    "This tutorial has been extracted from the following references:\n",
    "- http://wiki.ros.org/ROS/Tutorials\n",
    "- http://www.clearpathrobotics.com/assets/guides/kinetic/ros/\n",
    "- ROS free course in Udemy: https://www.udemy.com/share/101GMwAEITeFhTRX4F/\n",
    "- ROS Course Anis Koubaa: https://www.udemy.com/ros-essentials/\n",
    "- ROS course Edouard Renard: https://www.udemy.com/share/1022ucAEITeFhTRX4F/"
   ]
  },
  {
   "cell_type": "markdown",
   "metadata": {},
   "source": [
    "## Navigation control of Turtlesim"
   ]
  },
  {
   "cell_type": "markdown",
   "metadata": {},
   "source": [
    "A specific node \"/turtlebot_controller\" can be created to command the \"/turtlesim\" node.\n",
    "This node, in order to perform a speciffic motion control function:\n",
    "- publishes in the /turtle1/cmd_vel topic \n",
    "- subscribes to the /turtle1/pose topic\n",
    "\n",
    "This is performed following the tutorial:\n",
    "- http://wiki.ros.org/turtlesim/Tutorials\n",
    "- http://wiki.ros.org/turtlesim/Tutorials#Practicing_Python_with_Turtlesim\n",
    "- http://wiki.ros.org/turtlesim/Tutorials/Go%20to%20Goal\n",
    "- https://github.com/Apress/Robot-Operating-System-Abs-Begs"
   ]
  },
  {
   "cell_type": "markdown",
   "metadata": {},
   "source": [
    "<img src=\"./Images/1_turtlesim_go2point2.png\">"
   ]
  },
  {
   "cell_type": "markdown",
   "metadata": {},
   "source": [
    "In order to develop this we have first to create a package where different motion control programs will be done.\n",
    "\n",
    "We create a \"turtlesim_tutorial\" package with dependencies (rospy, geometry_msgs, turtlesim)\n",
    "\n",
    "In src directory:"
   ]
  },
  {
   "cell_type": "code",
   "execution_count": null,
   "metadata": {},
   "outputs": [],
   "source": [
    "catkin_create_pkg turtlesim_tutorial rospy geometry_msgs turtlesim"
   ]
  },
  {
   "cell_type": "code",
   "execution_count": null,
   "metadata": {},
   "outputs": [],
   "source": [
    "cd .."
   ]
  },
  {
   "cell_type": "code",
   "execution_count": null,
   "metadata": {},
   "outputs": [],
   "source": [
    "catkin_make"
   ]
  },
  {
   "cell_type": "markdown",
   "metadata": {},
   "source": [
    "Now we create a folder \"scripts\" where we will place python programs for speciffic motion control functions. The functions we will program in this tutorial will be:\n",
    "- Move distance\n",
    "- Go to a point"
   ]
  },
  {
   "cell_type": "markdown",
   "metadata": {},
   "source": [
    "### Exercise: Move distance with turtlesim"
   ]
  },
  {
   "cell_type": "markdown",
   "metadata": {},
   "source": [
    "Develop a ROS package to perform the following functionalities.\n",
    "- Specify a distance in x direction for turtlesim to move\n",
    "- Read the Pose of turtlesim\n",
    "- if the Pose.x is lower than the the distance specified, publish linear and angular speed\n",
    "- if the Pose.x is higher, then stop"
   ]
  },
  {
   "cell_type": "markdown",
   "metadata": {},
   "source": [
    "Create in /scripts the python file \"move_distance.py\""
   ]
  },
  {
   "cell_type": "code",
   "execution_count": null,
   "metadata": {},
   "outputs": [],
   "source": [
    "#!/usr/bin/env python\n",
    "\n",
    "import rospy\n",
    "\n",
    "from geometry_msgs.msg import Twist\n",
    "\n",
    "from turtlesim.msg import Pose\n",
    "\n",
    "import sys\n",
    "\n",
    "robot_x = 0\n",
    "\n",
    "\n",
    "def pose_callback(pose):\n",
    "    global robot_x\n",
    "\n",
    "\trospy.loginfo(\"Robot X = %f\\n\",pose.x)\n",
    "\n",
    "\trobot_x = pose.x\n",
    "\n",
    "\n",
    "def move_turtle(lin_vel,ang_vel,distance):\n",
    "\n",
    "    global robot_x\n",
    "\n",
    "    rospy.init_node('move_turtle', anonymous=False)\n",
    "    pub = rospy.Publisher('/turtle1/cmd_vel', Twist, queue_size=10)\n",
    "    \n",
    "    rospy.Subscriber('/turtle1/pose',Pose, pose_callback)\n",
    "\n",
    "    rate = rospy.Rate(10) # 10hz\n",
    " \n",
    "    vel = Twist()\n",
    "    while not rospy.is_shutdown():\n",
    "        \n",
    "\tvel.linear.x = lin_vel\n",
    "\tvel.linear.y = 0\n",
    "\tvel.linear.z = 0\n",
    "\n",
    "\tvel.angular.x = 0\n",
    "\tvel.angular.y = 0\n",
    "\tvel.angular.z = ang_vel\n",
    "\n",
    "        #rospy.loginfo(\"Linear Vel = %f: Angular Vel = %f\",lin_vel,ang_vel)\n",
    "\n",
    "\tif(robot_x >= distance):\n",
    "\t\trospy.loginfo(\"Robot Reached destination\")\n",
    "\t\trospy.logwarn(\"Stopping robot\")\n",
    "\n",
    "\t\tbreak\n",
    "\n",
    "        pub.publish(vel)\n",
    "\n",
    "        rate.sleep()\n",
    "\n",
    "if __name__ == '__main__':\n",
    "    try:\n",
    "        move_turtle(float(sys.argv[1]),float(sys.argv[2]),float(sys.argv[3]))\n",
    "    except rospy.ROSInterruptException:\n",
    "        pass"
   ]
  },
  {
   "cell_type": "markdown",
   "metadata": {},
   "source": [
    "make the file executable: chmod +x move_distance.py"
   ]
  },
  {
   "cell_type": "markdown",
   "metadata": {},
   "source": [
    "type in a terminal:"
   ]
  },
  {
   "cell_type": "code",
   "execution_count": null,
   "metadata": {},
   "outputs": [],
   "source": [
    "roscore\n",
    "rosrun turtlesim turtlesim_node\n",
    "rosrun turtlesim_tutorial move_distance.py 0.4 0.0 7.0"
   ]
  },
  {
   "cell_type": "markdown",
   "metadata": {},
   "source": [
    "<img src=\"./Images/1_turtlesim_move_dist1.png\">"
   ]
  },
  {
   "cell_type": "markdown",
   "metadata": {},
   "source": [
    "<img src=\"./Images/1_turtlesim_move_dist2.png\">"
   ]
  },
  {
   "cell_type": "markdown",
   "metadata": {},
   "source": [
    "We can generate a launch file \"move_distance.launch\" to run all nodes:"
   ]
  },
  {
   "cell_type": "code",
   "execution_count": null,
   "metadata": {},
   "outputs": [],
   "source": [
    "<?xml version=\"1.0\" encoding=\"UTF-8\"?>\n",
    "\n",
    "<launch>\n",
    "    <arg name=\"v\" default=\"0.7\"/>\n",
    "    <arg name=\"w\" default=\"0\"/>\n",
    "    <arg name=\"d\" default=\"7\"/>\n",
    "    <param name=\"v\" value=\"$(arg v)\"/>\n",
    "    <param name=\"w\" value=\"$(arg w)\"/>\n",
    "    <param name=\"d\" value=\"$(arg d)\"/>\n",
    "    <node pkg=\"turtlesim\" type=\"turtlesim_node\" name=\"turtlesim_node\"/>\n",
    "    <node pkg=\"turtlesim_tutorial\" type=\"move_distance_params.py\" name=\"move_turtle\" output=\"screen\" />\n",
    "</launch>"
   ]
  },
  {
   "cell_type": "markdown",
   "metadata": {},
   "source": [
    "we have created here a new \"move_distance_params.py\" script to introduce the parameters in the python script: (the last program lines)"
   ]
  },
  {
   "cell_type": "code",
   "execution_count": null,
   "metadata": {},
   "outputs": [],
   "source": [
    "if __name__ == '__main__':\n",
    "    try:\n",
    "        v= rospy.get_param('v')\n",
    "        w= rospy.get_param('w')\n",
    "        d= rospy.get_param('d')\n",
    "        move_turtle(v,w,d)\n",
    "    except rospy.ROSInterruptException:\n",
    "        pass"
   ]
  },
  {
   "cell_type": "code",
   "execution_count": null,
   "metadata": {},
   "outputs": [],
   "source": [
    "roslaunch turtlesim_tutorial move_distance.launch"
   ]
  },
  {
   "cell_type": "markdown",
   "metadata": {},
   "source": [
    "### Exercise: Go to target point with turtlesim"
   ]
  },
  {
   "cell_type": "markdown",
   "metadata": {},
   "source": [
    "Develop a ROS package to perform the following functionalities.\n",
    "- Specify a target point (x,y) with a tolerance for turtlesim to move\n",
    "- Read the Pose of turtlesim\n",
    "- if the Pose is lower than the the distance specified, publish linear and angular speed\n",
    "- if the Pose is higher, stop"
   ]
  },
  {
   "cell_type": "markdown",
   "metadata": {},
   "source": [
    "We can do better!\n",
    "\n",
    "We can use a python Class and use input parameters to specify the target point and tolerance"
   ]
  },
  {
   "cell_type": "code",
   "execution_count": null,
   "metadata": {},
   "outputs": [],
   "source": [
    "#!/usr/bin/env python\n",
    "import rospy\n",
    "from geometry_msgs.msg import Twist\n",
    "from turtlesim.msg import Pose\n",
    "from math import pow, atan2, sqrt\n",
    "\n",
    "\n",
    "class TurtleBot:\n",
    "\n",
    "    def __init__(self):\n",
    "        # Creates a node with name 'turtlebot_controller' and make sure it is a\n",
    "        # unique node (using anonymous=True).\n",
    "        rospy.init_node('turtlebot_controller', anonymous=True)\n",
    "\n",
    "        # Publisher which will publish to the topic '/turtle1/cmd_vel'.\n",
    "        self.velocity_publisher = rospy.Publisher('/turtle1/cmd_vel',\n",
    "                                                  Twist, queue_size=10)\n",
    "\n",
    "        # A subscriber to the topic '/turtle1/pose'. self.update_pose is called\n",
    "        # when a message of type Pose is received.\n",
    "        self.pose_subscriber = rospy.Subscriber('/turtle1/pose',\n",
    "                                                Pose, self.update_pose)\n",
    "\n",
    "        self.pose = Pose()\n",
    "        self.rate = rospy.Rate(10)\n",
    "\n",
    "    def update_pose(self, data):\n",
    "        \"\"\"Callback function which is called when a new message of type Pose is\n",
    "        received by the subscriber.\"\"\"\n",
    "        self.pose = data\n",
    "        self.pose.x = round(self.pose.x, 4)\n",
    "        self.pose.y = round(self.pose.y, 4)\n",
    "\n",
    "    def euclidean_distance(self, goal_pose):\n",
    "        \"\"\"Euclidean distance between current pose and the goal.\"\"\"\n",
    "        return sqrt(pow((goal_pose.x - self.pose.x), 2) +\n",
    "                    pow((goal_pose.y - self.pose.y), 2))\n",
    "\n",
    "    def linear_vel(self, goal_pose, constant=1.5):\n",
    "        \"\"\"See video: https://www.youtube.com/watch?v=Qh15Nol5htM.\"\"\"\n",
    "        return constant * self.euclidean_distance(goal_pose)\n",
    "\n",
    "    def steering_angle(self, goal_pose):\n",
    "        \"\"\"See video: https://www.youtube.com/watch?v=Qh15Nol5htM.\"\"\"\n",
    "        return atan2(goal_pose.y - self.pose.y, goal_pose.x - self.pose.x)\n",
    "\n",
    "    def angular_vel(self, goal_pose, constant=6):\n",
    "        \"\"\"See video: https://www.youtube.com/watch?v=Qh15Nol5htM.\"\"\"\n",
    "        return constant * (self.steering_angle(goal_pose) - self.pose.theta)\n",
    "\n",
    "    def move2goal(self):\n",
    "        \"\"\"Moves the turtle to the goal.\"\"\"\n",
    "        goal_pose = Pose()\n",
    "\n",
    "        # Get the input from the user.\n",
    "        goal_pose.x = input(\"Set your x goal: \")\n",
    "        goal_pose.y = input(\"Set your y goal: \")\n",
    "\n",
    "        # Please, insert a number slightly greater than 0 (e.g. 0.01).\n",
    "        distance_tolerance = input(\"Set your tolerance: \")\n",
    "\n",
    "        vel_msg = Twist()\n",
    "\n",
    "        while self.euclidean_distance(goal_pose) >= distance_tolerance:\n",
    "\n",
    "            # Porportional controller.\n",
    "            # https://en.wikipedia.org/wiki/Proportional_control\n",
    "\n",
    "            # Linear velocity in the x-axis.\n",
    "            vel_msg.linear.x = self.linear_vel(goal_pose)\n",
    "            vel_msg.linear.y = 0\n",
    "            vel_msg.linear.z = 0\n",
    "\n",
    "            # Angular velocity in the z-axis.\n",
    "            vel_msg.angular.x = 0\n",
    "            vel_msg.angular.y = 0\n",
    "            vel_msg.angular.z = self.angular_vel(goal_pose)\n",
    "\n",
    "            # Publishing our vel_msg\n",
    "            self.velocity_publisher.publish(vel_msg)\n",
    "\n",
    "            # Publish at the desired rate.\n",
    "            self.rate.sleep()\n",
    "\n",
    "        # Stopping our robot after the movement is over.\n",
    "        vel_msg.linear.x = 0\n",
    "        vel_msg.angular.z = 0\n",
    "        self.velocity_publisher.publish(vel_msg)\n",
    "\n",
    "        # If we press control + C, the node will stop.\n",
    "        rospy.spin()\n",
    "\n",
    "if __name__ == '__main__':\n",
    "    try:\n",
    "        x = TurtleBot()\n",
    "        x.move2goal()\n",
    "    except rospy.ROSInterruptException:\n",
    "        pass"
   ]
  },
  {
   "cell_type": "code",
   "execution_count": null,
   "metadata": {},
   "outputs": [],
   "source": [
    "rosrun turtlesim_tutorial go2point.py"
   ]
  },
  {
   "cell_type": "raw",
   "metadata": {},
   "source": [
    "We can program the setting up of all the nodes using a \"go2point.launch\" launch file"
   ]
  },
  {
   "cell_type": "code",
   "execution_count": null,
   "metadata": {},
   "outputs": [],
   "source": [
    "<?xml version=\"1.0\" encoding=\"UTF-8\"?>\n",
    "\n",
    "<launch>\n",
    "    <node pkg=\"turtlesim\" type=\"turtlesim_node\" name=\"turtlesim_node\"/>\n",
    "    <node pkg=\"turtlesim_tutorial\" type=\"go2point.py\" name=\"turtlebot_controller\" output=\"screen\" />\n",
    "</launch>"
   ]
  },
  {
   "cell_type": "code",
   "execution_count": null,
   "metadata": {},
   "outputs": [],
   "source": [
    "roslaunch turtlesim_tutorial go2point.launch"
   ]
  },
  {
   "cell_type": "markdown",
   "metadata": {},
   "source": [
    "<img src=\"./Images/1_turtlesim_go2point1.png\">"
   ]
  },
  {
   "cell_type": "markdown",
   "metadata": {},
   "source": [
    "<img src=\"./Images/1_turtlesim_go2point2.png\">"
   ]
  },
  {
   "cell_type": "markdown",
   "metadata": {},
   "source": [
    "<img src=\"./Images/1_turtlesim_launch1.png\">"
   ]
  },
  {
   "cell_type": "markdown",
   "metadata": {},
   "source": [
    "<img src=\"./Images/1_turtlesim_launch2.png\">"
   ]
  }
 ],
 "metadata": {
  "kernelspec": {
   "display_name": "Python 3",
   "language": "python",
   "name": "python3"
  },
  "language_info": {
   "codemirror_mode": {
    "name": "ipython",
    "version": 3
   },
   "file_extension": ".py",
   "mimetype": "text/x-python",
   "name": "python",
   "nbconvert_exporter": "python",
   "pygments_lexer": "ipython3",
   "version": "3.7.6"
  }
 },
 "nbformat": 4,
 "nbformat_minor": 2
}
