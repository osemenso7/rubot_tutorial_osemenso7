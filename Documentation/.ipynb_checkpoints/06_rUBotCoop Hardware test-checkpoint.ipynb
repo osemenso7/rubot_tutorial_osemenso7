{
 "cells": [
  {
   "cell_type": "markdown",
   "metadata": {},
   "source": [
    "# 06 rUBotCoop Hardware test"
   ]
  },
  {
   "cell_type": "markdown",
   "metadata": {},
   "source": [
    "This chapter focuses on running ROS within GoPiGo3.\n",
    "\n",
    "We will be covering the following topics in this chapter: \n",
    "- Setting up the physical robot \n",
    "- A quick introduction to ROS programming \n",
    "- How to write a ROS package (case study 1) \n",
    "- An overview of ROS commands\n",
    "- Creating and running publisher and subscriber nodes \n",
    "- Automating the execution of nodes with roslaunch \n",
    "- ROS GUI development tools (case study 2) \n",
    "- How to use ROS parameters \n",
    "We will provide explanations of these concepts based on two practical case studies: \n",
    "- Case study 1: Publishing and reading distance sensors \n",
    "- Case study 2: Acquiring and visualizing images from the Pi camera\n",
    "- Case study 3: robot drives (motors and encoders) dealing with robot control and simulation"
   ]
  },
  {
   "cell_type": "markdown",
   "metadata": {},
   "source": [
    "## Setting up the workspace"
   ]
  },
  {
   "cell_type": "markdown",
   "metadata": {},
   "source": [
    "To start using contributed ROS packages or to create your own, you will need to have a workspace in which to put the code.\n",
    "\n",
    "1. From a bash terminal, create a folder and initialize the workspace:"
   ]
  },
  {
   "cell_type": "code",
   "execution_count": null,
   "metadata": {},
   "outputs": [],
   "source": [
    "mkdir -p ~/catkin_ws/src\n",
    "cd ~/catkin_ws/src\n",
    "catkin_init_workspace"
   ]
  },
  {
   "cell_type": "markdown",
   "metadata": {},
   "source": [
    "2. Next, build the workspace:"
   ]
  },
  {
   "cell_type": "code",
   "execution_count": null,
   "metadata": {},
   "outputs": [],
   "source": [
    "cd ~/catkin_ws\n",
    "catkin_make"
   ]
  },
  {
   "cell_type": "markdown",
   "metadata": {},
   "source": [
    "3. Then, add it to your ROS environment:"
   ]
  },
  {
   "cell_type": "code",
   "execution_count": null,
   "metadata": {},
   "outputs": [],
   "source": [
    "echo \"source ~/catkin_ws/devel/setup.bash\" >> ~/.bashrc\n",
    "source ~/.bashrc"
   ]
  },
  {
   "cell_type": "markdown",
   "metadata": {},
   "source": [
    "We will now start working with a physical robot. Therefore, the first thing to do is to prepare the software you need to be running in the Raspberry Pi. This section will guide you through the process step by step."
   ]
  },
  {
   "cell_type": "markdown",
   "metadata": {},
   "source": [
    "## Add the available code files"
   ]
  },
  {
   "cell_type": "markdown",
   "metadata": {},
   "source": [
    "\n",
    "The code files for this chapter are available at https://github.com/PacktPublishing/Hands-On-ROS-for-Robotics-Programming/tree/master/Chapter6_ROS_programming. \n",
    "\n",
    "When you have completed the Raspberry Pi setup, as explained in the Setting up a physical robot section, clone the book repository (https://github.com/PacktPublishing/Hands-On-ROS-for-Robotics-Programming) in your home folder:"
   ]
  },
  {
   "cell_type": "code",
   "execution_count": null,
   "metadata": {},
   "outputs": [],
   "source": [
    "git clone https://github.com/PacktPublishing/Hands-On-ROS-for-Robotics-Programming"
   ]
  },
  {
   "cell_type": "markdown",
   "metadata": {},
   "source": [
    "Now copy the Chapter6_ROS_programming folder to the ROS workspace as usual:"
   ]
  },
  {
   "cell_type": "code",
   "execution_count": null,
   "metadata": {},
   "outputs": [],
   "source": [
    "cp -R ~/Hands-On-ROS-for-Robotics-Programming/Chapter6_ROS_programming ~/catkin_ws/src "
   ]
  },
  {
   "cell_type": "markdown",
   "metadata": {},
   "source": [
    "Everything is now ready to include the ROS packages we need. In the following section, we will add two of them: one cloning an existing repository and another one creating a package from scratch."
   ]
  },
  {
   "cell_type": "markdown",
   "metadata": {},
   "source": [
    "## Cloning a ROS package"
   ]
  },
  {
   "cell_type": "markdown",
   "metadata": {},
   "source": [
    "For the cloning option, we are going to use a basic GoPiGo3 ROS package that is publicly available in GitHub from https://github.com/ros-gopigo/gopigo3_node. Change to the src folder, which is the location where we will place all ROS packages, and then clone the source code:"
   ]
  },
  {
   "cell_type": "code",
   "execution_count": null,
   "metadata": {},
   "outputs": [],
   "source": [
    "cd ~/catkin_ws/src\n",
    "git clone https://github.com/ros-gopigo/gopigo3_node\n",
    "cd ~/catkin_ws\n",
    "catkin_make"
   ]
  },
  {
   "cell_type": "markdown",
   "metadata": {},
   "source": [
    "This means that you have just successfully installed the gopigo3_node package.\n",
    "\n",
    "Since ROS will be running on the Raspberry Pi, you will have to remotely connect to it. In order to do so, open a VNC connection to GoPiGo. Then, open a terminal in its desktop and install Terminator to have as many terminals as you need in the same window:"
   ]
  },
  {
   "cell_type": "code",
   "execution_count": null,
   "metadata": {},
   "outputs": [],
   "source": [
    "sudo apt-get update\n",
    "sudo apt-get install terminator "
   ]
  },
  {
   "cell_type": "markdown",
   "metadata": {},
   "source": [
    "In the \"gopigo3_node\" package, you will see several Python files for controlling GoPiGo3 sensors and drives.\n",
    "\n",
    "Open Terminator and divide the window into at least three terminals. We are going to execute the distance_sensor.py file under ROS. For that, we will need to issue three commands as follows:"
   ]
  },
  {
   "cell_type": "code",
   "execution_count": null,
   "metadata": {},
   "outputs": [],
   "source": [
    "roscore\n",
    "rosrun gopigo3_node distance_sensor.py\n",
    "rostopic echo /distance_sensor/distance"
   ]
  },
  {
   "cell_type": "markdown",
   "metadata": {},
   "source": [
    "To take just the last measurement, simply run the following command, where the number after -n indicates how many messages you want to print, which, in our case, is 1:"
   ]
  },
  {
   "cell_type": "code",
   "execution_count": null,
   "metadata": {},
   "outputs": [],
   "source": [
    "rostopic echo /distance_sensor/distance -n 1 "
   ]
  },
  {
   "cell_type": "markdown",
   "metadata": {},
   "source": [
    "The next step will be to create your own ROS package."
   ]
  },
  {
   "cell_type": "markdown",
   "metadata": {},
   "source": [
    "## Case study 2 – ROS GUI development tools – the Pi Camera"
   ]
  },
  {
   "cell_type": "markdown",
   "metadata": {},
   "source": [
    "# Robot Control and Simulation"
   ]
  },
  {
   "cell_type": "markdown",
   "metadata": {},
   "source": [
    "In this chapter, you will set up your ROS development environment specifically for programming GoPiGo3.\n",
    "\n",
    "The following topics will be covered in this chapter: \n",
    "- Setting up the GoPiGo3 development environment and making it capable of networking with ROS on a laptop \n",
    "- Case study 3 – remotely controlling the physical robot using the keyboard  \n",
    "- Remotely controlling robots using ROS topics from the command line \n",
    "- Comparing the behavior of both of the physical robot and the virtual model in Gazebo under manual remote control \n",
    "\n",
    "We will provide explanations of these concepts based on our third case study regarding robot drives (motors and encoders).\n",
    "\n",
    "By the end of this chapter, we will have our first complete version of the ROS package of GoPiGo3."
   ]
  }
 ],
 "metadata": {
  "kernelspec": {
   "display_name": "Python 3",
   "language": "python",
   "name": "python3"
  },
  "language_info": {
   "codemirror_mode": {
    "name": "ipython",
    "version": 3
   },
   "file_extension": ".py",
   "mimetype": "text/x-python",
   "name": "python",
   "nbconvert_exporter": "python",
   "pygments_lexer": "ipython3",
   "version": "3.7.3"
  }
 },
 "nbformat": 4,
 "nbformat_minor": 2
}
