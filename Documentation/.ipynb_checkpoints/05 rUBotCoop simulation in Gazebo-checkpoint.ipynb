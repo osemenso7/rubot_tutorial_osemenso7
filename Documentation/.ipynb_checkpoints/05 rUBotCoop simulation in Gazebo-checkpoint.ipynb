{
 "cells": [
  {
   "cell_type": "markdown",
   "metadata": {},
   "source": [
    "# rUBotCoop simulation in Gazebo"
   ]
  },
  {
   "cell_type": "markdown",
   "metadata": {},
   "source": [
    "This chapter deals with the dynamic simulation of a robot, which, conceptually, is a better approach to examining the actual behavior of the robot rather than just using software. Rigid body mechanics, including mass and inertia, friction, damping, motor controllers, sensor detection properties, noise signals, and every aspect of the robot and the environment that can be retained in a model with reasonable accuracy is much less expensive when replicated in a simulator than if you tried to do this with physical hardware.\n",
    "\n",
    "Next, we copy the code for this chapter to the ROS workspace. This way, you will have a cleaner ROS environment:\n"
   ]
  },
  {
   "cell_type": "code",
   "execution_count": null,
   "metadata": {},
   "outputs": [],
   "source": [
    "cp -R ~/Hands-On-ROS-for-Robotics-Programming/Chapter5_Gazebo_basics ~/rUBotCoop_ws/src"
   ]
  },
  {
   "cell_type": "code",
   "execution_count": null,
   "metadata": {},
   "outputs": [],
   "source": [
    "cd ~/rUBotCoop_ws\n",
    "catkin_make\n",
    "source ~/rUBotCoop_ws/devel/setup.bash"
   ]
  },
  {
   "cell_type": "markdown",
   "metadata": {},
   "source": [
    "Note that the new package is named \"gazebo_basics\""
   ]
  },
  {
   "cell_type": "markdown",
   "metadata": {},
   "source": [
    "Gazebo is an open source 3D robotics simulator and includes an ODE physics engine and OpenGL rendering, and supports code integration for closed-loop control in robot drives—that is, sensor simulation and actuator control.\n",
    "\n",
    "URDF, as we explained in the previous chapter, stands for Unified Robot Description Format and has an XML-compliant syntax to simulate the visual properties of a robot. This format, fitting the scope it was conceived for, does not model some of the characteristics that are needed for a dynamic simulation. More precisely, it cannot specify the following: \n",
    "- The pose of the robot itself within a world.\n",
    "- Joint loops (parallel linkages). \n",
    "- Friction and other properties. \n",
    "- Things that are not robots, such as sensors, actuators, lights, height maps, and so on. \n",
    "For such reasons, an evolved XML format called Simulation Description Format (SDF) started its development as part of the Gazebo robot simulator. SDF allows us to describe objects to the environments for robot simulators, visualization, and control. Over the years, SDF has become a stable, robust, and extensible format that's capable of describing all aspects of robots.\n",
    "\n",
    "In the gopigo.gazebo file under the URDF folder, you can find the following blocks of code, which specify all the previous explained characteristics:\n"
   ]
  },
  {
   "cell_type": "code",
   "execution_count": null,
   "metadata": {},
   "outputs": [],
   "source": [
    "<?xml version='1.0'?>\n",
    "<robot name=\"gopigo\">\n",
    "\n",
    "  <!-- Base Link -->\n",
    "  <link name=\"base_link\">\n",
    "    <visual>\n",
    "      <origin xyz=\"0 0 0\" rpy=\"0 0 0\" />\n",
    "      <geometry>\n",
    "          <box size=\"0.5 0.5 0.25\"/>\n",
    "      </geometry>\n",
    "    </visual>\n",
    "    <!-- Base collision, mass and inertia -->\n",
    "    <collision>\n",
    "      <origin xyz=\"0 0 0\" rpy=\"0 0 0\" />\n",
    "      <geometry>\n",
    "          <box size=\"0.5 0.5 0.25\"/>\n",
    "      </geometry>\n",
    "    </collision>\n",
    "    <inertial>\n",
    "      <mass value=\"5\"/>\n",
    "      <inertia ixx=\"0.13\" ixy=\"0.0\" ixz=\"0.0\" iyy=\"0.21\" iyz=\"0.0\" izz=\"0.13\"/>\n",
    "    </inertial>\n",
    "\n",
    "    <!-- Caster -->\n",
    "    <visual name=\"caster\">\n",
    "      <origin xyz=\"0.2 0 -0.125\" rpy=\"0 0 0\" />\n",
    "      <geometry>\n",
    "        <sphere radius=\"0.05\" />\n",
    "      </geometry>\n",
    "    </visual>\n",
    "    <!-- Caster collision, mass and inertia -->\n",
    "    <collision>\n",
    "      <origin xyz=\"0.2 0 -0.125\" rpy=\"0 0 0\" />\n",
    "      <geometry>\n",
    "        <sphere radius=\"0.05\" />\n",
    "      </geometry>\n",
    "    </collision>\n",
    "    <inertial>\n",
    "      <mass value=\"0.5\"/>\n",
    "      <inertia ixx=\"0.0001\" ixy=\"0.0\" ixz=\"0.0\" iyy=\"0.0001\" iyz=\"0.0\" izz=\"0.0001\"/>\n",
    "    </inertial>\n",
    "\n",
    "  </link>\n",
    "\n",
    "  <gazebo reference=\"base_link\">\n",
    "    <material>Gazebo/Blue</material>\n",
    "    <pose>0 0 3 0 0 0</pose>\n",
    "  </gazebo>\n",
    "\n",
    "  <!-- Right Wheel -->\n",
    "  <link name=\"right_wheel\">\n",
    "    <visual>\n",
    "      <origin xyz=\"0 0 0\" rpy=\"1.570795 0 0\" />\n",
    "      <geometry>\n",
    "          <cylinder length=\"0.1\" radius=\"0.2\" />\n",
    "      </geometry>\n",
    "    </visual>\n",
    "    <!-- Right Wheel collision, mass and inertia -->\n",
    "    <collision>\n",
    "      <origin xyz=\"0 0 0\" rpy=\"1.570795 0 0\" />\n",
    "      <geometry>\n",
    "          <cylinder length=\"0.1\" radius=\"0.2\" />\n",
    "      </geometry>\n",
    "    </collision>\n",
    "    <inertial>\n",
    "      <mass value=\"0.5\"/>\n",
    "      <inertia ixx=\"0.01\" ixy=\"0.0\" ixz=\"0.0\" iyy=\"0.005\" iyz=\"0.0\" izz=\"0.005\"/>\n",
    "    </inertial>\n",
    "\n",
    "  </link>\n",
    "\n",
    "  <gazebo reference=\"right_wheel\">\n",
    "    <material>Gazebo/Black</material>\n",
    "  </gazebo>\n",
    "\n",
    "  <!-- Right Wheel joint -->\n",
    "  <joint name=\"joint_right_wheel\" type=\"continuous\">\n",
    "    <parent link=\"base_link\"/>\n",
    "    <child link=\"right_wheel\"/>\n",
    "    <origin xyz=\"0 -0.30 0.025\" rpy=\"0 0 0\" /> \n",
    "    <axis xyz=\"0 1 0\" />\n",
    "  </joint>\n",
    "\n",
    "  <!-- Left Wheel -->\n",
    "  <link name=\"left_wheel\">\n",
    "    <visual>\n",
    "      <origin xyz=\"0 0 0\" rpy=\"1.570795 0 0\" />\n",
    "      <geometry>\n",
    "          <cylinder length=\"0.1\" radius=\"0.2\" />\n",
    "      </geometry>\n",
    "    </visual>\n",
    "    <!-- Left Wheel collision, mass and inertia -->\n",
    "    <collision>\n",
    "      <origin xyz=\"0 0 0\" rpy=\"1.570795 0 0\" />\n",
    "      <geometry>\n",
    "          <cylinder length=\"0.1\" radius=\"0.2\" />\n",
    "      </geometry>\n",
    "    </collision>\n",
    "    <inertial>\n",
    "      <mass value=\"0.5\"/>\n",
    "      <inertia ixx=\"0.01\" ixy=\"0.0\" ixz=\"0.0\" iyy=\"0.005\" iyz=\"0.0\" izz=\"0.005\"/>\n",
    "    </inertial>\n",
    "\n",
    "  </link>\n",
    "\n",
    "  <gazebo reference=\"left_wheel\">\n",
    "    <material>Gazebo/Black</material>\n",
    "  </gazebo>\n",
    "\n",
    "  <!-- Left Wheel joint -->\n",
    "  <joint name=\"joint_left_wheel\" type=\"continuous\">\n",
    "    <parent link=\"base_link\"/>\n",
    "    <child link=\"left_wheel\"/>\n",
    "    <origin xyz=\"0 0.30 0.025\" rpy=\"0 0 0\" /> \n",
    "    <axis xyz=\"0 1 0\"/>\n",
    "  </joint>\n",
    "\n",
    "</robot>\n"
   ]
  },
  {
   "cell_type": "markdown",
   "metadata": {},
   "source": [
    "The single-launch file of this chapter can be found under the launch folder of the package and is called gopigo_gazebo.launch.\n"
   ]
  },
  {
   "cell_type": "code",
   "execution_count": null,
   "metadata": {},
   "outputs": [],
   "source": [
    "<launch>\n",
    "  <!-- We resume the logic in gazebo_ros package empty_world.launch, -->\n",
    "  <!-- changing only the name of the world to be launched -->\n",
    "  <include file=\"$(find gazebo_ros)/launch/empty_world.launch\">\n",
    "    <arg name=\"world_name\" value=\"$(find gazebo_basics)/worlds/gopigo.world\"/>\n",
    "   \n",
    "    <arg name=\"paused\" default=\"false\"/>\n",
    "    <arg name=\"use_sim_time\" default=\"true\"/>\n",
    "    <arg name=\"gui\" default=\"true\"/>\n",
    "    <arg name=\"headless\" default=\"false\"/>\n",
    "    <arg name=\"debug\" default=\"false\"/>\n",
    "\n",
    "  </include>\n",
    "\n",
    "  <!-- Spawn dd_robot into Gazebo -->\n",
    "  <node name=\"spawn_urdf\" pkg=\"gazebo_ros\" type=\"spawn_model\" output=\"screen\"\n",
    "     args=\"-file $(find gazebo_basics)/urdf/gopigo.gazebo -urdf -model gopigo\" />\n",
    "\n",
    "</launch>"
   ]
  },
  {
   "cell_type": "code",
   "execution_count": null,
   "metadata": {},
   "outputs": [],
   "source": [
    "roslaunch gazebo_basics gopigo_gazebo.launch"
   ]
  },
  {
   "cell_type": "markdown",
   "metadata": {},
   "source": [
    "To solve Error REST.cc:205:\n",
    "https://automaticaddison.com/how-to-launch-gazebo-in-ubuntu/"
   ]
  },
  {
   "cell_type": "code",
   "execution_count": null,
   "metadata": {},
   "outputs": [],
   "source": []
  }
 ],
 "metadata": {
  "kernelspec": {
   "display_name": "Python 3",
   "language": "python",
   "name": "python3"
  },
  "language_info": {
   "codemirror_mode": {
    "name": "ipython",
    "version": 3
   },
   "file_extension": ".py",
   "mimetype": "text/x-python",
   "name": "python",
   "nbconvert_exporter": "python",
   "pygments_lexer": "ipython3",
   "version": "3.7.3"
  }
 },
 "nbformat": 4,
 "nbformat_minor": 2
}
