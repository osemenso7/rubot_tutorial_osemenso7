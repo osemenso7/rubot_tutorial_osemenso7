{
 "cells": [
  {
   "cell_type": "markdown",
   "metadata": {},
   "source": [
    "# ROS Tutorial"
   ]
  },
  {
   "cell_type": "markdown",
   "metadata": {},
   "source": [
    "This tutorial has been extracted from the following references:\n",
    "- http://wiki.ros.org/ROS/Tutorials\n",
    "- http://www.clearpathrobotics.com/assets/guides/kinetic/ros/\n",
    "- ROS free course in Udemy: https://www.udemy.com/share/101GMwAEITeFhTRX4F/\n",
    "- ROS Course Anis Koubaa: https://www.udemy.com/ros-essentials/\n",
    "- ROS course Edouard Renard: https://www.udemy.com/share/1022ucAEITeFhTRX4F/\n",
    "- ROS course: https://github.com/PacktPublishing/Hands-On-ROS-for-Robotics-Programming"
   ]
  },
  {
   "cell_type": "markdown",
   "metadata": {},
   "source": [
    "# What is ROS?"
   ]
  },
  {
   "cell_type": "markdown",
   "metadata": {},
   "source": [
    "Robot Operating System (ROS) is an open source software environment used worldwide to program in robotics. We Will learn the basics of ROS programming environment in the last part of the Robotics course. We will use it to program and control a mobile robot and you will see the main advantages to use it.\n",
    "\n",
    "Its development started at Willow Garage, a technology incubator and robotics research laboratory in Stanford University. \n",
    "- Its origin dates back to several projects at Stanford University from the mid-2000s, where researchers found themselves reinventing the wheel every time they had to build the software for each project. \n",
    "- In 2007, Willow Garage took the lead and gave rise to ROS. The main goal was to reuse existing code and make it possible to prototype new robot designs quickly, focusing on high-level functionality and minimizing the need for editing code.\n",
    "- ROS is intended for the development of applications where different devices have to talk to each other in order to create a flexible and scalable environment.\n",
    "- A ROS system is comprised of a number of independent nodes, each of which communicates with the other nodes using a publish/subscribe messaging model. For example, a particular sensor’s driver might be implemented as a node, which publishes sensor data in a stream of messages. These messages could be consumed by any number of other nodes, including filters, loggers, and also higher-level systems such as guidance, pathfinding, etc.\n",
    "- Note that nodes in ROS do not have to be on the same system (multiple computers) or even of the same architecture! You could have a Arduino publishing messages, a laptop subscribing to them, and an Android phone driving motors. This makes ROS really flexible and adaptable to the needs of the user. ROS is also open source, maintained by many people."
   ]
  },
  {
   "cell_type": "markdown",
   "metadata": {},
   "source": [
    "# General Concepts"
   ]
  },
  {
   "cell_type": "markdown",
   "metadata": {},
   "source": [
    "Let’s look at the ROS system from a very high level view. No need to worry how any of the following works, we will cover that later.\n",
    "\n",
    "ROS starts with the ROS Master. The Master allows all other ROS pieces of software (Nodes) to find and talk to each other. That way, we do not have to ever specifically state “Send this sensor data to that computer at 127.0.0.1. We can simply tell Node 1 to send messages to Node 2."
   ]
  },
  {
   "cell_type": "markdown",
   "metadata": {},
   "source": [
    "<img src=\"./Images/1_ros_nodes.png\">"
   ]
  },
  {
   "cell_type": "markdown",
   "metadata": {},
   "source": [
    "How do Nodes do this? By publishing and subscribing to Topics.\n",
    "\n",
    "Let’s say we have a camera on our Robot. We want to be able to see the images from the camera, both on the Robot itself, and on another laptop.\n",
    "\n",
    "In our example, we have a Camera Node that takes care of communication with the camera, a Image Processing Node on the robot that process image data, and a Image Display Node that displays images on a screen. To start with, all Nodes have registered with the Master. Think of the Master as a lookup table where all the nodes go to find where exactly to send messages."
   ]
  },
  {
   "cell_type": "markdown",
   "metadata": {},
   "source": [
    "<img src=\"./Images/1_ros_nodes_camera.png\">"
   ]
  },
  {
   "cell_type": "markdown",
   "metadata": {},
   "source": [
    "In registering with the ROS Master, the Camera Node states that it will Publish a Topic called /image_data (for example). Both of the other Nodes register that they are Subscribed to the Topic /image_data.\n",
    "\n",
    "Thus, once the Camera Node receives some data from the Camera, it sends the /image_data message directly to the other two nodes. (Through what is essentially TCP/IP)"
   ]
  },
  {
   "cell_type": "markdown",
   "metadata": {},
   "source": [
    "<img src=\"./Images/1_ros_nodes_camera2.png\">"
   ]
  },
  {
   "cell_type": "markdown",
   "metadata": {},
   "source": [
    "Now you may be thinking, what if I want the Image Processing Node to request data from the Camera Node at a specific time? To do this, ROS implements Services.\n",
    "\n",
    "A Node can register a specific service with the ROS Master, just as it registers its messages. In the below example, the Image Processing Node first requests /image_data, the Camera Node gathers data from the Camera, and then sends the reply."
   ]
  },
  {
   "cell_type": "markdown",
   "metadata": {},
   "source": [
    "<img src=\"./Images/1_ros_nodes_camera_service.png\">"
   ]
  },
  {
   "cell_type": "markdown",
   "metadata": {},
   "source": [
    "# ROS nodes and topics with Turtlesim "
   ]
  },
  {
   "cell_type": "markdown",
   "metadata": {},
   "source": [
    "This tutorial has been extracted from: \n",
    " - http://wiki.ros.org/turtlesim\n",
    " - http://wiki.ros.org/ROS/Tutorials/UnderstandingTopics\n",
    "\n",
    "Be sure you have installed the turtlesim package:"
   ]
  },
  {
   "cell_type": "code",
   "execution_count": null,
   "metadata": {},
   "outputs": [],
   "source": [
    "roscore\n",
    "roscd turtlesim"
   ]
  },
  {
   "cell_type": "code",
   "execution_count": null,
   "metadata": {},
   "outputs": [],
   "source": [
    "rosrun turtlesim turtlesim_node"
   ]
  },
  {
   "cell_type": "markdown",
   "metadata": {},
   "source": [
    "<img src=\"./Images/1_turtlesim1.png\">"
   ]
  },
  {
   "cell_type": "markdown",
   "metadata": {},
   "source": [
    "\"turtlesim_node\" is a node responsible to spaw the turtle in the blue board"
   ]
  },
  {
   "cell_type": "code",
   "execution_count": null,
   "metadata": {},
   "outputs": [],
   "source": [
    "rosnode list"
   ]
  },
  {
   "cell_type": "code",
   "execution_count": null,
   "metadata": {},
   "outputs": [],
   "source": [
    "rostopic list"
   ]
  },
  {
   "cell_type": "code",
   "execution_count": null,
   "metadata": {},
   "outputs": [],
   "source": [
    "rosservice list"
   ]
  },
  {
   "cell_type": "code",
   "execution_count": null,
   "metadata": {},
   "outputs": [],
   "source": [
    "rosparam list"
   ]
  },
  {
   "cell_type": "markdown",
   "metadata": {},
   "source": [
    "<img src=\"./Images/1_turtlesim2.png\">"
   ]
  },
  {
   "cell_type": "markdown",
   "metadata": {},
   "source": [
    "To see the information about the nodes, topics and messages:"
   ]
  },
  {
   "cell_type": "code",
   "execution_count": null,
   "metadata": {},
   "outputs": [],
   "source": [
    "rosnode info /turtlesim"
   ]
  },
  {
   "cell_type": "code",
   "execution_count": null,
   "metadata": {},
   "outputs": [],
   "source": [
    "rostopic info /turtle1/cmd_vel"
   ]
  },
  {
   "cell_type": "code",
   "execution_count": null,
   "metadata": {},
   "outputs": [],
   "source": [
    "rostopic info /turtle1/pose"
   ]
  },
  {
   "cell_type": "markdown",
   "metadata": {},
   "source": [
    "<img src=\"./Images/1_turtlesim6.png\">"
   ]
  },
  {
   "cell_type": "markdown",
   "metadata": {},
   "source": [
    "In order to see the message structure:"
   ]
  },
  {
   "cell_type": "code",
   "execution_count": null,
   "metadata": {},
   "outputs": [],
   "source": [
    "rosmsg show geometry_msgs/Twist"
   ]
  },
  {
   "cell_type": "code",
   "execution_count": null,
   "metadata": {},
   "outputs": [],
   "source": [
    "rosmsg show turtlesim/Pose "
   ]
  },
  {
   "cell_type": "markdown",
   "metadata": {},
   "source": [
    "you can also find the message structure in google: http://docs.ros.org/melodic/api/geometry_msgs/html/msg/Twist.html"
   ]
  },
  {
   "cell_type": "markdown",
   "metadata": {},
   "source": [
    "In order to write a message to a topic we have different options:\n",
    "- we can publish directly to the topic: for exemple we publish a Twist type message with a rate of 1Hz to define a circle:"
   ]
  },
  {
   "cell_type": "code",
   "execution_count": null,
   "metadata": {},
   "outputs": [],
   "source": [
    "rostopic pub -r 1 /turtle1/cmd_vel geometry_msgs/Twist '[2, 0, 0]' '[0, 0, 2]'"
   ]
  },
  {
   "cell_type": "markdown",
   "metadata": {},
   "source": [
    "<img src=\"./Images/1_turtlesim7.png\">"
   ]
  },
  {
   "cell_type": "markdown",
   "metadata": {},
   "source": [
    "- or we can write a node to use the keyboard arrows to generate and publish the cmd_vel messages to the /cmd_vel topic:"
   ]
  },
  {
   "cell_type": "code",
   "execution_count": null,
   "metadata": {},
   "outputs": [],
   "source": [
    "rosrun turtlesim turtle_teleop_key"
   ]
  },
  {
   "cell_type": "markdown",
   "metadata": {},
   "source": [
    "<img src=\"./Images/1_turtlesim3.png\">"
   ]
  },
  {
   "cell_type": "markdown",
   "metadata": {},
   "source": [
    "\"turtle_teleop_key\" is another node responsible to comand and move the turtle."
   ]
  },
  {
   "cell_type": "markdown",
   "metadata": {},
   "source": [
    "In order to listen a message from a topic:"
   ]
  },
  {
   "cell_type": "code",
   "execution_count": null,
   "metadata": {},
   "outputs": [],
   "source": [
    "rostopic echo /turtle1/pose"
   ]
  },
  {
   "cell_type": "code",
   "execution_count": null,
   "metadata": {},
   "outputs": [],
   "source": [
    "rostopic echo /turtle1/cmd_vel"
   ]
  },
  {
   "cell_type": "markdown",
   "metadata": {},
   "source": [
    "<img src=\"./Images/1_turtlesim4.png\">"
   ]
  },
  {
   "cell_type": "markdown",
   "metadata": {},
   "source": [
    "We can use \"rqt_graph\" and \"rqt_plot\" to se the nodes-topics structure and the message values"
   ]
  },
  {
   "cell_type": "code",
   "execution_count": null,
   "metadata": {},
   "outputs": [],
   "source": [
    "rqt_graph"
   ]
  },
  {
   "cell_type": "code",
   "execution_count": null,
   "metadata": {},
   "outputs": [],
   "source": [
    "rqt_plot"
   ]
  },
  {
   "cell_type": "markdown",
   "metadata": {},
   "source": [
    "<img src=\"./Images/1_turtlesim8.png\">"
   ]
  },
  {
   "cell_type": "markdown",
   "metadata": {},
   "source": [
    "## PC setup environment"
   ]
  },
  {
   "cell_type": "markdown",
   "metadata": {},
   "source": [
    "In order to design our own nodes, we have first to prepare your WS"
   ]
  },
  {
   "cell_type": "code",
   "execution_count": null,
   "metadata": {},
   "outputs": [],
   "source": [
    "mkdir -p ~/rUBotCoop_ws/src\n",
    "cd ~/rUBotCoop_ws/src\n",
    "catkin_init_workspace\n",
    "cd ~/rUBotCoop_ws\n",
    "catkin_make\n",
    "cd ..\n",
    "echo \"source ~/rUBotCoop_ws/devel/setup.bash\" >> ~/.bashrc\n",
    "source ~/.bashrc"
   ]
  },
  {
   "cell_type": "markdown",
   "metadata": {},
   "source": [
    "We can copy the Code folder from our reference book in Home directory"
   ]
  },
  {
   "cell_type": "code",
   "execution_count": null,
   "metadata": {},
   "outputs": [],
   "source": [
    "cd ~\n",
    "git clone https://github.com/PacktPublishing/Hands-On-ROS-for-Robotics-Programming"
   ]
  },
  {
   "cell_type": "markdown",
   "metadata": {},
   "source": [
    "## ROS Publishers and Subscribers"
   ]
  },
  {
   "cell_type": "markdown",
   "metadata": {},
   "source": [
    "You can see more details in http://wiki.ros.org/ROS/Tutorials/WritingPublisherSubscriber%28python%29\n",
    "\n",
    "We will show first how to create a python script to publish in a topic."
   ]
  },
  {
   "cell_type": "markdown",
   "metadata": {},
   "source": [
    "A python publisher node is defined as an exemple in the following code:\n",
    "- we create a \"talker\" node\n",
    "- to publish a String type message \n",
    "- in a /chatter topic\n",
    "- with a rate of 10Hz"
   ]
  },
  {
   "cell_type": "code",
   "execution_count": null,
   "metadata": {},
   "outputs": [],
   "source": [
    "#!/usr/bin/env python\n",
    "# license removed for brevity\n",
    "import rospy\n",
    "from std_msgs.msg import String\n",
    "\n",
    "def talker():\n",
    "    pub = rospy.Publisher('chatter', String, queue_size=10)\n",
    "    rospy.init_node('talker', anonymous=True)\n",
    "    rate = rospy.Rate(10) # 10hz\n",
    "    while not rospy.is_shutdown():\n",
    "        hello_str = \"hello world %s\" % rospy.get_time()\n",
    "        rospy.loginfo(hello_str)\n",
    "        pub.publish(hello_str)\n",
    "        rate.sleep()\n",
    "\n",
    "if __name__ == '__main__':\n",
    "    try:\n",
    "        talker()\n",
    "    except rospy.ROSInterruptException:\n",
    "        pass"
   ]
  },
  {
   "cell_type": "markdown",
   "metadata": {},
   "source": [
    "Now we show how to create a python script to subscribe to a topic:"
   ]
  },
  {
   "cell_type": "markdown",
   "metadata": {},
   "source": [
    "A python subscriber node is defined as an example in the following code:\n",
    "- we create a \"listener\" node\n",
    "- subscribes to the /chatter topic \n",
    "- a message of type std_msgs.msgs.String \n",
    "- When new messages are received, callback is invoked with the message as the first argument"
   ]
  },
  {
   "cell_type": "code",
   "execution_count": null,
   "metadata": {},
   "outputs": [],
   "source": [
    "#!/usr/bin/env python\n",
    "import rospy\n",
    "from std_msgs.msg import String\n",
    "\n",
    "def callback(data):\n",
    "    rospy.loginfo(rospy.get_caller_id() + \"I heard %s\", data.data)\n",
    "    \n",
    "def listener():\n",
    "\n",
    "    # In ROS, nodes are uniquely named. If two nodes with the same\n",
    "    # name are launched, the previous one is kicked off. The\n",
    "    # anonymous=True flag means that rospy will choose a unique\n",
    "    # name for our 'listener' node so that multiple listeners can\n",
    "    # run simultaneously.\n",
    "    rospy.init_node('listener', anonymous=True)\n",
    "\n",
    "    rospy.Subscriber(\"chatter\", String, callback)\n",
    "\n",
    "    # spin() simply keeps python from exiting until this node is stopped\n",
    "    rospy.spin()\n",
    "\n",
    "if __name__ == '__main__':\n",
    "    listener()"
   ]
  },
  {
   "cell_type": "markdown",
   "metadata": {},
   "source": [
    "## Exercise: Doubled"
   ]
  },
  {
   "cell_type": "markdown",
   "metadata": {},
   "source": [
    "We create first a ROS package \"ros_basics\" with the dependencies rospy and std_msgs"
   ]
  },
  {
   "cell_type": "code",
   "execution_count": null,
   "metadata": {},
   "outputs": [],
   "source": [
    "cd rUBotCoop_ws/src\n",
    "catkin_create_pkg ros_basics std_msgs rospy"
   ]
  },
  {
   "cell_type": "code",
   "execution_count": null,
   "metadata": {},
   "outputs": [],
   "source": [
    "cd ~/rUBotCoop_ws\n",
    "catkin_make\n",
    "source ~/rUBotCoop_ws/devel/setup.bash"
   ]
  },
  {
   "cell_type": "markdown",
   "metadata": {},
   "source": [
    "Note the package name is ros_basics and is specified in package.xml"
   ]
  },
  {
   "cell_type": "code",
   "execution_count": null,
   "metadata": {},
   "outputs": [],
   "source": [
    "roscore\n",
    "rosrun ros_basics doubler.py\n",
    "rostopic echo doubled\n",
    "rostopic pub number std_msgs/Int32 2\n",
    "rqt_graph"
   ]
  },
  {
   "cell_type": "markdown",
   "metadata": {},
   "source": [
    "<img src=\"./Images/03_Doubled1.png\">"
   ]
  },
  {
   "cell_type": "markdown",
   "metadata": {},
   "source": [
    "<img src=\"./Images/03_Doubled2.png\">"
   ]
  },
  {
   "cell_type": "markdown",
   "metadata": {},
   "source": [
    "### Exercise: Counter"
   ]
  },
  {
   "cell_type": "markdown",
   "metadata": {},
   "source": [
    "Develop python scripts to perform the following functionalities.\n",
    "- Publish a number every 1s\n",
    "- Read this number, adds with the previous one and publishes the result"
   ]
  },
  {
   "cell_type": "markdown",
   "metadata": {},
   "source": [
    "Create in  the \"script\" folder the python file Publisher_num.py for the Publiser:"
   ]
  },
  {
   "cell_type": "code",
   "execution_count": null,
   "metadata": {},
   "outputs": [],
   "source": [
    "#!/usr/bin/env python\n",
    "\n",
    "import rospy\n",
    "from std_msgs.msg import Int64\n",
    "\n",
    "if __name__ == '__main__':\n",
    "\trospy.init_node(\"number_publisher\", anonymous=True)\n",
    "\n",
    "\tpub = rospy.Publisher(\"/number\", Int64, queue_size=10)\n",
    "\n",
    "\trate = rospy.Rate(1)\n",
    "\n",
    "\twhile not rospy.is_shutdown():\n",
    "\t\tmsg = Int64()\n",
    "\t\tmsg.data = 2\n",
    "\t\tpub.publish(msg)\n",
    "\t\trate.sleep()"
   ]
  },
  {
   "cell_type": "markdown",
   "metadata": {},
   "source": [
    "Do not forget to make the file executable: chmod +x Publisher_num.py\n",
    "\n",
    "In \"script\" folder create the python file PubSub_counter.py for the Publiser/Subscriber:"
   ]
  },
  {
   "cell_type": "code",
   "execution_count": null,
   "metadata": {},
   "outputs": [],
   "source": [
    "#!/usr/bin/env python\n",
    "\n",
    "import rospy\n",
    "from std_msgs.msg import Int64\n",
    "\n",
    "counter = 0\n",
    "pub = None\n",
    "\n",
    "def callback_number(msg):\n",
    "\tglobal counter\n",
    "\tcounter += msg.data\n",
    "\tnew_msg = Int64()\n",
    "\tnew_msg.data = counter\n",
    "\tpub.publish(new_msg)\n",
    "    rospy.loginfo(\"I Publish the counter value: %s\", counter)\n",
    "\n",
    "if __name__ == '__main__':\n",
    "\trospy.init_node('number_counter')\n",
    "\n",
    "\tsub = rospy.Subscriber(\"/number\", Int64, callback_number)\n",
    "\n",
    "\tpub = rospy.Publisher(\"/number_count\", Int64, queue_size=10)\n",
    "\n",
    "\trospy.spin()"
   ]
  },
  {
   "cell_type": "markdown",
   "metadata": {},
   "source": [
    "Do not forget to make the file executable: chmod +x PubSub_counter.py\n",
    "\n",
    "These python scripts can be adapted to the desired control functions.\n",
    "\n",
    "To properly run the ROS application, create a launch folder containing the launch file:"
   ]
  },
  {
   "cell_type": "code",
   "execution_count": null,
   "metadata": {},
   "outputs": [],
   "source": [
    "cd rUBotCoop_ws/src/ros_basics\n",
    "mkdir launch"
   ]
  },
  {
   "cell_type": "markdown",
   "metadata": {},
   "source": [
    "create this file: counter.launch"
   ]
  },
  {
   "cell_type": "code",
   "execution_count": null,
   "metadata": {},
   "outputs": [],
   "source": [
    "<?xml version=\"1.0\" encoding=\"UTF-8\"?>\n",
    "\n",
    "<launch>\n",
    "    <node pkg=\"beginner_tutorials\" type=\"Publisher_num.py\" name=\"number_publisher\"/>\n",
    "    <node pkg=\"beginner_tutorials\" type=\"PubSub_counter.py\" name=\"number_counter\" output=\"screen\" />\n",
    "</launch>"
   ]
  },
  {
   "cell_type": "code",
   "execution_count": null,
   "metadata": {},
   "outputs": [],
   "source": [
    "roslaunch beginner_tutorials counter.launch"
   ]
  }
 ],
 "metadata": {
  "kernelspec": {
   "display_name": "Python 3",
   "language": "python",
   "name": "python3"
  },
  "language_info": {
   "codemirror_mode": {
    "name": "ipython",
    "version": 3
   },
   "file_extension": ".py",
   "mimetype": "text/x-python",
   "name": "python",
   "nbconvert_exporter": "python",
   "pygments_lexer": "ipython3",
   "version": "3.7.6"
  }
 },
 "nbformat": 4,
 "nbformat_minor": 2
}
