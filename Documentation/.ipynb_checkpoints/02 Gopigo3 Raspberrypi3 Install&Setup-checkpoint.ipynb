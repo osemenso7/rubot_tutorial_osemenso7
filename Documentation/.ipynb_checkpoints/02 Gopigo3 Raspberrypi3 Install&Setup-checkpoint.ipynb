{
 "cells": [
  {
   "cell_type": "markdown",
   "metadata": {},
   "source": [
    "# Raspberrypi3 Install&Setup"
   ]
  },
  {
   "cell_type": "markdown",
   "metadata": {},
   "source": [
    "The code files for this chapter are available at https://github.com/PacktPublishing/Hands-On-ROS-for-Robotics-Programming/tree/master/Chapter6_ROS_programming.\n"
   ]
  },
  {
   "cell_type": "markdown",
   "metadata": {},
   "source": [
    "When you have completed the Raspberry Pi setup, as explained in the Setting up a physical robot section, clone the book repository (https://github.com/PacktPublishing/Hands-On-ROS-for-Robotics-Programming) in your home folder:\n"
   ]
  },
  {
   "cell_type": "code",
   "execution_count": null,
   "metadata": {},
   "outputs": [],
   "source": [
    "git clone https://github.com/PacktPublishing/Hands-On-ROS-for-Robotics-Programming\n"
   ]
  },
  {
   "cell_type": "markdown",
   "metadata": {},
   "source": [
    "if you decide to use the provided code, you will just need to copy the Chapter6_ROS_programming folder to the ROS workspace as usual:"
   ]
  },
  {
   "cell_type": "code",
   "execution_count": null,
   "metadata": {},
   "outputs": [],
   "source": [
    "cp -R ~/Hands-On-ROS-for-Robotics-Programming/Chapter6_ROS_programming ~/catkin_ws/src"
   ]
  },
  {
   "cell_type": "markdown",
   "metadata": {},
   "source": [
    "## Ubuntu Mate"
   ]
  },
  {
   "cell_type": "markdown",
   "metadata": {},
   "source": [
    "Therefore, the first thing to do is to prepare the software you need to be running in the Raspberry Pi. This section will guide you through the process step by step.\n",
    "\n",
    "Mate is, at the time of writing, the recommended Ubuntu desktop to run under Raspberry Pi. It is a complete Ubuntu distribution with a nice desktop interface. Follow these steps to make it run in your GoPiGo3:\n"
   ]
  },
  {
   "cell_type": "markdown",
   "metadata": {},
   "source": [
    "1. Download the image from https://ubuntu-mate.org/download/, selecting the Raspberry Pi version (recommended): AArch32 (ARMv7). Burn the image onto a micro SD card. Afterward, place it in the slot in the Raspberry Pi, plug in a mouse and keyboard, connect to an HDMI screen, and then power on the board.\n"
   ]
  },
  {
   "cell_type": "markdown",
   "metadata": {},
   "source": [
    "2. The first time you initiate it, a setup assistant will guide you through the process of configuring the operating system. In this book, we assume that the Ubuntu user is named pi.\n"
   ]
  },
  {
   "cell_type": "markdown",
   "metadata": {},
   "source": [
    "3. Make sure that you connect to the local WiFi by selecting a network from the list that is deployed when clicking on the wireless icon in the upper-right corner of the screen. It is strongly recommended that you add a second mobile WiFi network preferably like the one that your smartphone provides.This will avoid the need to connect to the HDMI screen, keyboard, and mouse when you move the robot away from home in the future."
   ]
  },
  {
   "cell_type": "markdown",
   "metadata": {},
   "source": [
    "The following instructions are optional and are believed to provide a friendlier way to access the Raspberry Pi.\n"
   ]
  },
  {
   "cell_type": "markdown",
   "metadata": {},
   "source": [
    "## ROS Melodic"
   ]
  },
  {
   "cell_type": "markdown",
   "metadata": {},
   "source": [
    "Since you will be using only the core ROS packages in your Raspberry Pi, it is recommended that you install the latest Ubuntu LTS version, that is, Ubuntu Mate 18.04 Bionic (https://ubuntu-mate.org/download/). This is because, although almost all contributed ROS packages are available for ROS Kinetic, it is also true that core packages are already available in the 2018 version of ROS Melodic. Therefore, it is safe to install this release in the Raspberry Pi under Ubuntu 18.04. As mentioned already, the instructions on the ROS Melodic installation page (http://wiki.ros.org/melodic/Installation/Ubuntu) are pretty clear and straightforward.\n",
    "\n",
    "If installing ROS Desktop (which is recommended for beginners and for covering the contents of this book), use the following command:\n"
   ]
  },
  {
   "cell_type": "code",
   "execution_count": null,
   "metadata": {},
   "outputs": [],
   "source": [
    "sudo apt-get install ros-melodic-desktop"
   ]
  },
  {
   "cell_type": "markdown",
   "metadata": {},
   "source": [
    "## Drivers and DI sensors"
   ]
  },
  {
   "cell_type": "markdown",
   "metadata": {},
   "source": [
    "Now we will prepare the system to work with GoPiGo3.\n",
    "\n",
    "The relevant steps are provided in the official documentation at https://dexterindustries.com/update_gopigo3. In short, you only have to open a terminal and execute following two commands, one after another:\n"
   ]
  },
  {
   "cell_type": "code",
   "execution_count": null,
   "metadata": {},
   "outputs": [],
   "source": [
    "curl -kL dexterindustries.com/update_gopigo3 | bash\n",
    "curl -kL dexterindustries.com/update_sensors | bash"
   ]
  },
  {
   "cell_type": "markdown",
   "metadata": {},
   "source": [
    "At this point, your operating system is ready to run any GoPiGo3 code, that is, the Python scripts that we used in Chapter 2, Unit Testing of GoPiGo3.\n"
   ]
  },
  {
   "cell_type": "markdown",
   "metadata": {},
   "source": [
    "## Install Pi Camera"
   ]
  },
  {
   "cell_type": "markdown",
   "metadata": {},
   "source": [
    "First, we will enable access to the camera hardware from the Raspberry Pi and we will install the Python module to handle the camera:"
   ]
  },
  {
   "cell_type": "code",
   "execution_count": null,
   "metadata": {},
   "outputs": [],
   "source": [
    "sudo bash -c \"echo 'start_x=1' >> /boot/config.txt\"\n",
    "sudo bash -c \"echo 'gpu_mem=128' >> /boot/config.txt\" \n",
    "sudo pip install picamera"
   ]
  },
  {
   "cell_type": "markdown",
   "metadata": {},
   "source": [
    "To check that the camera works properly, create this Python script and name it captureFile.py (you can find it inside the piCamera folder in the code for this chapter):"
   ]
  },
  {
   "cell_type": "markdown",
   "metadata": {},
   "source": [
    "Give execution permissions and run the Python module:"
   ]
  },
  {
   "cell_type": "code",
   "execution_count": null,
   "metadata": {},
   "outputs": [],
   "source": [
    "chmod +x captureFile.py\n",
    "./captureFile.py"
   ]
  }
 ],
 "metadata": {
  "kernelspec": {
   "display_name": "Python 3",
   "language": "python",
   "name": "python3"
  },
  "language_info": {
   "codemirror_mode": {
    "name": "ipython",
    "version": 3
   },
   "file_extension": ".py",
   "mimetype": "text/x-python",
   "name": "python",
   "nbconvert_exporter": "python",
   "pygments_lexer": "ipython3",
   "version": "3.7.3"
  }
 },
 "nbformat": 4,
 "nbformat_minor": 2
}
